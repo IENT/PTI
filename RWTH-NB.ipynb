{
 "cells": [
  {
   "cell_type": "markdown",
   "metadata": {},
   "source": [
    "# RWTH.nb test\n",
    "\n",
    "[RWTH.nb](https://git.rwth-aachen.de/jupyter/rwth-nb) should be included in PTI by default."
   ]
  },
  {
   "cell_type": "code",
   "execution_count": null,
   "metadata": {},
   "outputs": [],
   "source": [
    "%matplotlib widget\n",
    "\n",
    "import matplotlib.pyplot as plt\n",
    "import numpy as np\n",
    "import rwth_nb.plots.mpl_decorations as rwth_plt\n",
    "\n",
    "x = np.linspace(-5,5)\n",
    "\n",
    "fig,ax = plt.subplots(); ax.plot(x, x**2, 'rwth:blue');\n",
    "ax.set_xlabel(r'$\\rightarrow x$'); ax.set_ylabel(r'$\\uparrow f(x)=x^2$')\n",
    "rwth_plt.axis(ax);"
   ]
  }
 ],
 "metadata": {
  "kernelspec": {
   "display_name": "Python 3",
   "language": "python",
   "name": "python3"
  },
  "language_info": {
   "codemirror_mode": {
    "name": "ipython",
    "version": 3
   },
   "file_extension": ".py",
   "mimetype": "text/x-python",
   "name": "python",
   "nbconvert_exporter": "python",
   "pygments_lexer": "ipython3",
   "version": "3.8.2"
  }
 },
 "nbformat": 4,
 "nbformat_minor": 4
}
