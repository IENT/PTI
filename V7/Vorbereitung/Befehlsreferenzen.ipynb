{
 "cells": [
  {
   "cell_type": "code",
   "execution_count": null,
   "metadata": {
    "jupyter": {
     "source_hidden": true
    }
   },
   "outputs": [],
   "source": [
    "from scipy.io import wavfile\n",
    "import numpy as np\n",
    "\n",
    "from rwth_nb.misc import media\n",
    "\n",
    "import matplotlib.pyplot as plt\n",
    "import rwth_nb.plots.mpl_decorations as rwth_plt\n",
    "%matplotlib widget\n",
    "\n",
    "\n",
    "def mp3coder(in_array,fs):\n",
    "    \"\"\" MP3CODER wendet auf ein npArray den MP3 Coder Lame an\n",
    "\n",
    "        liest ein npArray ein, convertiert dies in die temp.wav Datei. Aus diesem Audiosignale wird \n",
    "        mittels des Lame encoders ein mp3-File erzeugt. Das so erzeugte File wird im aktuellen \n",
    "        Verzeichnis unter dem Namen temp.mp3 abgespeichert.\n",
    "\n",
    "        Im Anschluss wird das mp3-File mithilfe des Lame decoder in die 'tempdec.wav' Datei convertiert \n",
    "        und anschließend wieder in ein npArray\n",
    "    \"\"\" \n",
    "    import os\n",
    "    \n",
    "    wavfile.write('temp.wav', fs, in_array)\n",
    "\n",
    "    os.system('lame -q 0 temp.wav temp.mp3')\n",
    "    wav_size = os.path.getsize('temp.wav')\n",
    "    mp3_size = os.path.getsize('temp.mp3')\n",
    "    print('Die Größe des uncodierten Signals beträgt ' + str(wav_size) + ' bytes \\n')\n",
    "    print('Die Größe des mp3 codierten Signals beträgt ' + str(mp3_size) + ' bytes \\n')\n",
    "\n",
    "    os.system('lame --decode temp.mp3 tempdec.wav')\n",
    "\n",
    "    [fs,signal] = wavfile.read('tempdec.wav')\n",
    "    os.system('rm temp*')\n",
    "\n",
    "    return fs, signal\n",
    "\n"
   ]
  },
  {
   "cell_type": "markdown",
   "metadata": {},
   "source": [
    "<div>\n",
    "    <img src=\"http://www.ient.rwth-aachen.de/cms/uploads/images/rwth_ient_logo@2x.png\" style=\"float: right;height: 5em;\">\n",
    "</div>\n",
    "\n",
    "# Befehlsreferenzen Python\n",
    "Python kann in Kombination mit den Bibliotheken NumPy, SciPy, Matplotlib und Pandas prinzipiell als vollwertiger Ersatz für MATLAB genutzt werden. Die einzelnen Bibliotheken haben unterschiedliche Funktionalitäten.\n",
    "\n",
    "Die __NumPy__ (Numeric Python) Bibliothek ermöglicht mit der Einführung von numerischen Arrays die Ausführung von mathematischen Operationen, wie Addition oder Multiplikationen auf Vektoren. Python-Listen unterstützen diese Funktionen nicht, da in Python-Listen, beliebige Datentypen gespeichert werden können. Die Addition von einer Liste mit Strings und einer Liste mit Gleitkommazahlen ist im Allgememeinen nicht möglich. \n",
    "\n",
    "Die __SciPy__ Bibliothek enthält unter anderem Module für die numerische Optimierung, lineare Algebra, numerische Integration, Interpolation, schnelle Fouriertransformation, Signalverarbeitung, Bildverarbeitung, numerische Integration gewöhnlicher Differenzialgleichungen und symbolische Mathematik.\n",
    "\n",
    "Die __Matlplotlib__ Bibliothek enthält Module, um mathematische Darstellungen aller Art anzufertigen. Sie wird, wie der Name schon sagt, zum Plotten verwendet.\n",
    "\n",
    "\n",
    "Integriert werden die Bibliotheken mit Hilfe der folgenden Syntax:\n",
    "\n",
    "\n",
    "```python\n",
    "import <library_name> as <abreviation>\n",
    "```\n",
    "Nun können alle Elemente der Bibliothek mit:\n",
    "\n",
    "```python\n",
    "<abreviation>.function\n",
    "```\n",
    "im eigene Code verwendet werden. In diesem Versuch sind bereits alle nötigen Bibliotheken für Sie integriert, das sieht wie folgt aus:"
   ]
  },
  {
   "cell_type": "code",
   "execution_count": null,
   "metadata": {},
   "outputs": [],
   "source": [
    "import os\n",
    "import numpy as np\n",
    "import matplotlib.pyplot as plt\n",
    "import IPython.display as ipd"
   ]
  },
  {
   "cell_type": "markdown",
   "metadata": {
    "deletable": false,
    "editable": false,
    "hide_input": false
   },
   "source": [
    "Im Folgenden werden die für das Praktikum relevante Funktionen der jeweiligen Bibliotheken vorgestellt."
   ]
  },
  {
   "cell_type": "markdown",
   "metadata": {},
   "source": [
    "## Möglichkeiten zum Erstellen von Arrays\n",
    "Arrays sind ein Python/Numpy Datentyp um Vektoren und Matrizen zu verarbeiten. In Python gibt es eine Besonderheit. Vektoren können mit nur in einer Dimension beschrieben werden, nämlich der Länge. Dies bedeutet, dass Verktoren die nur in einer Dimension beschrieben sind nicht transponierbar sind."
   ]
  },
  {
   "cell_type": "markdown",
   "metadata": {},
   "source": [
    "__Erzeugt ein mit Nullen gefülltes Array__ [(detailiertere Erklärungen)](https://docs.scipy.org/doc/numpy/reference/generated/numpy.zeros.html)"
   ]
  },
  {
   "cell_type": "code",
   "execution_count": null,
   "metadata": {},
   "outputs": [],
   "source": [
    "np.zeros(6)"
   ]
  },
  {
   "cell_type": "markdown",
   "metadata": {},
   "source": [
    "__Erzeugt ein mit Einsen gefülltes Array__ [(detailiertere Erklärungen)](https://docs.scipy.org/doc/numpy/reference/generated/numpy.ones.html)"
   ]
  },
  {
   "cell_type": "code",
   "execution_count": null,
   "metadata": {},
   "outputs": [],
   "source": [
    "np.ones(3)"
   ]
  },
  {
   "cell_type": "markdown",
   "metadata": {},
   "source": [
    "__Erzeugt ein Array mit Werten zwischen Start und Stop im vorgegebenen Abstand__ [(detailiertere Erklärungen)](https://docs.scipy.org/doc/numpy-1.15.0/reference/generated/numpy.arange.html)"
   ]
  },
  {
   "cell_type": "code",
   "execution_count": null,
   "metadata": {},
   "outputs": [],
   "source": [
    "np.arange(0,11,2)"
   ]
  },
  {
   "cell_type": "markdown",
   "metadata": {},
   "source": [
    "__Erzeugt ein Array mit gleichmäßig verteilten Werten__ [(detailiertere Erklärungen)](https://docs.scipy.org/doc/numpy/reference/generated/numpy.linspace.html#numpy.linspace)"
   ]
  },
  {
   "cell_type": "code",
   "execution_count": null,
   "metadata": {},
   "outputs": [],
   "source": [
    "np.linspace(0,10,6)"
   ]
  },
  {
   "cell_type": "markdown",
   "metadata": {},
   "source": [
    "__Erzeugt ein Array mit Zufallswerten zwischen \\[0,1)__ [(detailiertere Erklärungen)](https://docs.scipy.org/doc/numpy/reference/generated/numpy.random.rand.html#numpy.random.rand)"
   ]
  },
  {
   "cell_type": "code",
   "execution_count": null,
   "metadata": {},
   "outputs": [],
   "source": [
    "np.random.rand(10)"
   ]
  },
  {
   "cell_type": "markdown",
   "metadata": {},
   "source": [
    "__Erzeugen eines mit Arrays mit selbst gewählten Werten__ [(detailiertere Erklärungen)](https://docs.scipy.org/doc/numpy-1.15.0/reference/generated/numpy.array.html#numpy.array)"
   ]
  },
  {
   "cell_type": "code",
   "execution_count": null,
   "metadata": {},
   "outputs": [],
   "source": [
    "np.array([1,2,3])"
   ]
  },
  {
   "cell_type": "markdown",
   "metadata": {},
   "source": [
    "__Indexierung in NumPy Arrays__\n",
    "\n",
    "Auf die einzelne Elemente eines Numpy Arrays kann man mithilfe der Syntax __array[index]__ zugreifen. Dabei sollte man beachten, dass das erste Element eines Array den Index 0 hat.\n"
   ]
  },
  {
   "cell_type": "code",
   "execution_count": null,
   "metadata": {},
   "outputs": [],
   "source": [
    "test_array = np.array([6,8,9])\n",
    "test_array[2]"
   ]
  },
  {
   "cell_type": "markdown",
   "metadata": {
    "deletable": false,
    "editable": false,
    "run_control": {
     "frozen": true
    }
   },
   "source": [
    "---"
   ]
  },
  {
   "cell_type": "markdown",
   "metadata": {},
   "source": [
    "## Mathematische Operationen\n",
    "Um die Anwendungsweise von mathematischen Operationen demonstrieren zu können erstellen wir zwei Arrays:"
   ]
  },
  {
   "cell_type": "code",
   "execution_count": null,
   "metadata": {},
   "outputs": [],
   "source": [
    "a=np.array([1,-2,3])\n",
    "b=np.array([1,4,9])\n",
    "c=np.array([np.pi/2,-np.pi/2, 3/2 * np.pi])"
   ]
  },
  {
   "cell_type": "markdown",
   "metadata": {},
   "source": [
    "__Elementweise Addition__"
   ]
  },
  {
   "cell_type": "code",
   "execution_count": null,
   "metadata": {},
   "outputs": [],
   "source": [
    "a + b"
   ]
  },
  {
   "cell_type": "markdown",
   "metadata": {},
   "source": [
    "__Elementweise Multiplikation__"
   ]
  },
  {
   "cell_type": "code",
   "execution_count": null,
   "metadata": {},
   "outputs": [],
   "source": [
    "a*b"
   ]
  },
  {
   "cell_type": "markdown",
   "metadata": {},
   "source": [
    "__Elementweise Potenzierung__"
   ]
  },
  {
   "cell_type": "code",
   "execution_count": null,
   "metadata": {},
   "outputs": [],
   "source": [
    "a**b"
   ]
  },
  {
   "cell_type": "markdown",
   "metadata": {},
   "source": [
    "__Elementweise Anwendung der Sinus Funktion__ [(detailiertere Erklärungen)](https://docs.scipy.org/doc/numpy/reference/generated/numpy.sin.html)\n"
   ]
  },
  {
   "cell_type": "code",
   "execution_count": null,
   "metadata": {},
   "outputs": [],
   "source": [
    "np.sin(c)"
   ]
  },
  {
   "cell_type": "markdown",
   "metadata": {},
   "source": [
    "__Elementweise Betrag bilden__ [(detailiertere Erklärungen)](https://docs.scipy.org/doc/numpy/reference/generated/numpy.absolute.html)"
   ]
  },
  {
   "cell_type": "code",
   "execution_count": null,
   "metadata": {},
   "outputs": [],
   "source": [
    "np.absolute(a)"
   ]
  },
  {
   "cell_type": "markdown",
   "metadata": {},
   "source": [
    "__Wurzel ziehen__ [(detailiertere Erklärungen)](https://docs.scipy.org/doc/numpy/reference/generated/numpy.sqrt.html)"
   ]
  },
  {
   "cell_type": "code",
   "execution_count": null,
   "metadata": {},
   "outputs": [],
   "source": [
    "np.sqrt(b)"
   ]
  },
  {
   "cell_type": "markdown",
   "metadata": {},
   "source": [
    " __Alle Elemente eines Arrays aufsummieren__ [(detailiertere Erklärungen)](https://docs.scipy.org/doc/numpy/reference/generated/numpy.sum.html)"
   ]
  },
  {
   "cell_type": "code",
   "execution_count": null,
   "metadata": {},
   "outputs": [],
   "source": [
    "np.sum(b)"
   ]
  },
  {
   "cell_type": "markdown",
   "metadata": {},
   "source": [
    "__Ausgabe des größten Elements innerhalb eines Arrays__ [(detailiertere Erklärungen)](https://docs.scipy.org/doc/numpy/reference/generated/numpy.amax.html)"
   ]
  },
  {
   "cell_type": "code",
   "execution_count": null,
   "metadata": {},
   "outputs": [],
   "source": [
    "np.amax(b)"
   ]
  },
  {
   "cell_type": "markdown",
   "metadata": {
    "deletable": false,
    "editable": false,
    "run_control": {
     "frozen": true
    }
   },
   "source": [
    "---"
   ]
  },
  {
   "cell_type": "markdown",
   "metadata": {},
   "source": [
    "## Befehle im Zusammenhang mit der Fast Fourier Tranformation"
   ]
  },
  {
   "cell_type": "markdown",
   "metadata": {},
   "source": [
    "__Berechnet die ein-dimensionale diskrete Fourier Transformation__ [(detailiertere Erklärungen)](https://docs.scipy.org/doc/numpy/reference/generated/numpy.fft.fft.html)"
   ]
  },
  {
   "cell_type": "code",
   "execution_count": null,
   "metadata": {},
   "outputs": [],
   "source": [
    " np.fft.fft(np.exp(2j * np.pi * np.arange(8) / 8))"
   ]
  },
  {
   "cell_type": "markdown",
   "metadata": {},
   "source": [
    "__Berechnet die ein-dimensionale diskrete Fourier Transformation für ein reellwertiges Eingangssignal__ [(detailiertere Erklärungen)](https://docs.scipy.org/doc/numpy/reference/generated/numpy.fft.rfft.html#numpy.fft.rfft)"
   ]
  },
  {
   "cell_type": "code",
   "execution_count": null,
   "metadata": {},
   "outputs": [],
   "source": [
    "x = np.cos(np.pi * np.arange(9) / 9)\n",
    "y = np.fft.rfft(x)"
   ]
  },
  {
   "cell_type": "markdown",
   "metadata": {},
   "source": [
    "__Berechnet die inverse np.fft.rfft__ [(detailiertere Erklärungen)](https://docs.scipy.org/doc/numpy/reference/generated/numpy.fft.irfft.html#numpy.fft.irfft)"
   ]
  },
  {
   "cell_type": "code",
   "execution_count": null,
   "metadata": {},
   "outputs": [],
   "source": [
    "print(x)\n",
    "print(np.fft.irfft(y,9))"
   ]
  },
  {
   "cell_type": "markdown",
   "metadata": {
    "deletable": false,
    "editable": false,
    "run_control": {
     "frozen": true
    }
   },
   "source": [
    " ---\n"
   ]
  },
  {
   "cell_type": "markdown",
   "metadata": {},
   "source": [
    "## Funktionen zur Manipulation von Arrays"
   ]
  },
  {
   "cell_type": "markdown",
   "metadata": {},
   "source": [
    "__Ermittelung der Array Größe__ [(detailiertere Erklärungen)](https://docs.scipy.org/doc/numpy/reference/generated/numpy.ndarray.shape.html)"
   ]
  },
  {
   "cell_type": "code",
   "execution_count": null,
   "metadata": {},
   "outputs": [],
   "source": [
    "print(np.shape(a))\n",
    "print(a.shape[0])"
   ]
  },
  {
   "cell_type": "markdown",
   "metadata": {},
   "source": [
    "__Ermittelung der Anzahl der Elemente in einem Array__ [(detailiertere Erklärungen)](https://docs.scipy.org/doc/numpy/reference/generated/numpy.ndarray.size.htm)"
   ]
  },
  {
   "cell_type": "code",
   "execution_count": null,
   "metadata": {},
   "outputs": [],
   "source": [
    "np.size(a)"
   ]
  },
  {
   "cell_type": "markdown",
   "metadata": {},
   "source": [
    "__Kopie eines Arrays erstellen__"
   ]
  },
  {
   "cell_type": "code",
   "execution_count": null,
   "metadata": {},
   "outputs": [],
   "source": [
    "e=np.copy(a); print(a)\n",
    "e[0]=3; print(a)\n",
    "\n",
    "e=a; print(a)\n",
    "e[0]=3; print(a)"
   ]
  },
  {
   "cell_type": "markdown",
   "metadata": {},
   "source": [
    "__Element horizintal an ein Array anhängen__ [(detailiertere Erklärungen)](https://docs.scipy.org/doc/numpy/reference/generated/numpy.hstack.html)"
   ]
  },
  {
   "cell_type": "code",
   "execution_count": null,
   "metadata": {},
   "outputs": [],
   "source": [
    "np.hstack((a,b))"
   ]
  },
  {
   "cell_type": "markdown",
   "metadata": {},
   "source": [
    "__Arrays verbinden__ [(detailiertere Erklärungen)](https://docs.scipy.org/doc/numpy/reference/generated/numpy.concatenate.html)"
   ]
  },
  {
   "cell_type": "code",
   "execution_count": null,
   "metadata": {},
   "outputs": [],
   "source": [
    "np.concatenate((a,b))"
   ]
  },
  {
   "cell_type": "markdown",
   "metadata": {},
   "source": [
    "__Ein Array Vervielfachen__ [(detailiertere Erklärungen)](https://docs.scipy.org/doc/numpy/reference/generated/numpy.tile.html#numpy.tile)"
   ]
  },
  {
   "cell_type": "code",
   "execution_count": null,
   "metadata": {},
   "outputs": [],
   "source": [
    "np.tile(b,3)"
   ]
  },
  {
   "cell_type": "markdown",
   "metadata": {},
   "source": [
    "__For Schleife__ [(detailiertere Erklärungen)](https://wiki.python.org/moin/ForLoop)"
   ]
  },
  {
   "cell_type": "code",
   "execution_count": null,
   "metadata": {},
   "outputs": [],
   "source": [
    "numbers = np.arange(1,5,1);\n",
    "for x in numbers:\n",
    "    print(x/2)"
   ]
  },
  {
   "cell_type": "markdown",
   "metadata": {
    "deletable": false,
    "editable": false,
    "run_control": {
     "frozen": true
    }
   },
   "source": [
    "***"
   ]
  },
  {
   "cell_type": "markdown",
   "metadata": {},
   "source": [
    "## Audio und Abbildungen\n",
    "\n",
    "In diesem Versuch geht es insbesondere um die MP3-Codierung. Zu diesem Zweck wurde eine Funktion __[fs,signal] = mp3coder (inputArray, fs)__ programmiert, welche den MP3 Encoder und Decoder integriert. \n"
   ]
  },
  {
   "cell_type": "markdown",
   "metadata": {},
   "source": [
    "__Einlesen von .wav files__  [(detailiertere Erklärungen)](https://docs.scipy.org/doc/scipy/reference/generated/scipy.io.wavfile.read.html#scipy.io.wavfile.read)"
   ]
  },
  {
   "cell_type": "code",
   "execution_count": null,
   "metadata": {},
   "outputs": [],
   "source": [
    "fs, signal = wavfile.read('abba.wav')"
   ]
  },
  {
   "cell_type": "markdown",
   "metadata": {},
   "source": [
    "__Numpy Arrays MP3-Codieren:__"
   ]
  },
  {
   "cell_type": "code",
   "execution_count": null,
   "metadata": {},
   "outputs": [],
   "source": [
    "[fsmp3,signalmp3] = mp3coder(signal,fs)"
   ]
  },
  {
   "cell_type": "markdown",
   "metadata": {},
   "source": [
    "<a id=\"section_play\"></a>\n",
    "__Musik Dateien abspielen__"
   ]
  },
  {
   "cell_type": "code",
   "execution_count": null,
   "metadata": {},
   "outputs": [],
   "source": [
    "media.audio_play(signal,fs)"
   ]
  },
  {
   "cell_type": "markdown",
   "metadata": {},
   "source": [
    "__Werte visualizieren__ [(detailiertere Erklärungen)](https://matplotlib.org/tutorials/introductory/pyplot.html#sphx-glr-tutorials-introductory-pyplot-py\" )"
   ]
  },
  {
   "cell_type": "code",
   "execution_count": null,
   "metadata": {
    "hide_input": false
   },
   "outputs": [],
   "source": [
    "fig,ax = plt.subplots();\n",
    "ax.plot(signal,'rwth:blue')\n",
    "ax.set_xlabel(r'$\\rightarrow n$'); ax.set_ylabel(r'$\\uparrow s[n]$')\n",
    "rwth_plt.axis(ax);"
   ]
  }
 ],
 "metadata": {
  "kernelspec": {
   "display_name": "Python 3",
   "language": "python",
   "name": "python3"
  },
  "language_info": {
   "codemirror_mode": {
    "name": "ipython",
    "version": 3
   },
   "file_extension": ".py",
   "mimetype": "text/x-python",
   "name": "python",
   "nbconvert_exporter": "python",
   "pygments_lexer": "ipython3",
   "version": "3.7.6"
  },
  "toc": {
   "base_numbering": 1,
   "nav_menu": {},
   "number_sections": true,
   "sideBar": true,
   "skip_h1_title": false,
   "title_cell": "Table of Contents",
   "title_sidebar": "Contents",
   "toc_cell": false,
   "toc_position": {},
   "toc_section_display": true,
   "toc_window_display": false
  },
  "varInspector": {
   "cols": {
    "lenName": 16,
    "lenType": 16,
    "lenVar": 40
   },
   "kernels_config": {
    "python": {
     "delete_cmd_postfix": "",
     "delete_cmd_prefix": "del ",
     "library": "var_list.py",
     "varRefreshCmd": "print(var_dic_list())"
    },
    "r": {
     "delete_cmd_postfix": ") ",
     "delete_cmd_prefix": "rm(",
     "library": "var_list.r",
     "varRefreshCmd": "cat(var_dic_list()) "
    }
   },
   "position": {
    "height": "501.85px",
    "left": "1559px",
    "right": "26px",
    "top": "76px",
    "width": "335px"
   },
   "types_to_exclude": [
    "module",
    "function",
    "builtin_function_or_method",
    "instance",
    "_Feature"
   ],
   "window_display": false
  }
 },
 "nbformat": 4,
 "nbformat_minor": 4
}
