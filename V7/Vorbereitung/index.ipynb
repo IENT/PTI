{
 "cells": [
  {
   "cell_type": "markdown",
   "metadata": {},
   "source": [
    "<div>\n",
    "    <img src=\"http://www.ient.rwth-aachen.de/cms/uploads/images/rwth_ient_logo@2x.png\" style=\"float: right;height: 5em;\">\n",
    "</div>\n",
    "\n",
    "\n",
    "# Praktikum Technische Informatik\n",
    "## Versuch 7: Verlustbehaftete Audiocodierung\n",
    "---\n",
    "\n",
    "### Folgende Links zeigen auf die Vorbereitungsunterlagen:\n",
    "\n",
    "* [Vorbereitungsskript](Vorbereitungsskript.ipynb)\n",
    "* [Vorbereitungsaufgaben](Vorbereitungsaufgaben.ipynb)\n",
    "* [Befehlsreferenzen](Befehlsreferenzen.ipynb)"
   ]
  },
  {
   "cell_type": "markdown",
   "metadata": {},
   "source": [
    "### Jupyter Quick Start\n",
    "\n",
    "* Zum Ausführen aller Cells eines Notebooks: Im Menü: Run <span class=\"fa fa-long-arrow-right\" aria-hidden=\"true\"></span> Run All\n",
    "* Zum Neustart: <span class=\"fa fa-repeat\" aria-hidden=\"true\"></span> oder im Menü: Kernel <span class=\"fa fa-long-arrow-right\" aria-hidden=\"true\"></span> Restart ...\n",
    "* Zum Ausführen einer einzelnen Cell: __Strg + Enter__ oder <span class=\"fa fa-caret-right\" aria-hidden=\"true\"></span>\n",
    " \n"
   ]
  },
  {
   "cell_type": "markdown",
   "metadata": {},
   "source": [
    "### Mitwirkende\n",
    "* Jens Schneider\n",
    "* Christian Rohlfing"
   ]
  },
  {
   "cell_type": "markdown",
   "metadata": {},
   "source": [
    "This notebook is provided as [Open Educational Resource](https://en.wikipedia.org/wiki/Open_educational_resources) (OER). Feel free to use the notebook for your own purposes. The code is licensed under the [MIT license](https://opensource.org/licenses/MIT). "
   ]
  }
 ],
 "metadata": {
  "kernelspec": {
   "display_name": "Python 3",
   "language": "python",
   "name": "python3"
  },
  "language_info": {
   "codemirror_mode": {
    "name": "ipython",
    "version": 3
   },
   "file_extension": ".py",
   "mimetype": "text/x-python",
   "name": "python",
   "nbconvert_exporter": "python",
   "pygments_lexer": "ipython3",
   "version": "3.7.6"
  },
  "toc": {
   "base_numbering": 1,
   "nav_menu": {},
   "number_sections": false,
   "sideBar": true,
   "skip_h1_title": false,
   "title_cell": "Table of Contents",
   "title_sidebar": "Contents",
   "toc_cell": false,
   "toc_position": {},
   "toc_section_display": true,
   "toc_window_display": true
  },
  "varInspector": {
   "cols": {
    "lenName": 16,
    "lenType": 16,
    "lenVar": 40
   },
   "kernels_config": {
    "python": {
     "delete_cmd_postfix": "",
     "delete_cmd_prefix": "del ",
     "library": "var_list.py",
     "varRefreshCmd": "print(var_dic_list())"
    },
    "r": {
     "delete_cmd_postfix": ") ",
     "delete_cmd_prefix": "rm(",
     "library": "var_list.r",
     "varRefreshCmd": "cat(var_dic_list()) "
    }
   },
   "types_to_exclude": [
    "module",
    "function",
    "builtin_function_or_method",
    "instance",
    "_Feature"
   ],
   "window_display": false
  }
 },
 "nbformat": 4,
 "nbformat_minor": 4
}
