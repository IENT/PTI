{
 "cells": [
  {
   "cell_type": "markdown",
   "metadata": {},
   "source": [
    "<div>\n",
    "    <img src=\"http://www.ient.rwth-aachen.de/cms/uploads/images/rwth_ient_logo@2x.png\" style=\"float: right;height: 5em;\">\n",
    "</div>"
   ]
  },
  {
   "cell_type": "code",
   "execution_count": null,
   "metadata": {
    "jupyter": {
     "source_hidden": true
    }
   },
   "outputs": [],
   "source": [
    "%matplotlib widget \n",
    "\n",
    "#import libraries\n",
    "import ipywidgets as widgets\n",
    "import os\n",
    "import numpy as np\n",
    "import matplotlib.pyplot as plt\n",
    "import rwth_nb.plots.mpl_decorations as rwth_plt\n",
    "import IPython.display as ipd\n",
    "\n",
    "# rwth_nb feedback\n",
    "import rwth_nb.misc.feedback as rwth_feedback\n",
    "\n",
    "from scipy.io import wavfile\n",
    "from rwth_nb.misc import media"
   ]
  },
  {
   "cell_type": "markdown",
   "metadata": {},
   "source": [
    "<a id=\"section_752\"></a>\n",
    "\n",
    "# Verdeckung im Frequenzbereich\n",
    "\n",
    "Zum Starten: Im Menü: Run <span class=\"fa-chevron-right fa\"></span> Run All Cells auswählen.\n",
    "\n",
    "In diesem Versuch wird die Verdeckung im Frequenzbereich anhand eines Hörversuchs untersucht. Konkret wird die Auswirkung von Rauschen (weißes Rauschen, Breitbandrauschen, Schmalbandrauschen) auf die Hörschwelle untersucht. Theoretisch wissen wir, dass die Anwesenheit von Rauschen zu einer Anhebung der Hörschwelle führt. Die angehobene Hörschwelle wird auch Maskierungsschwelle genannt. Alle Signale mit Schalldruck unterhalb der Maskierungsschwelle sind nicht mehr hörbar.   \n",
    "Die Maskierungsschwelle ist für jeden Menschen individuell. Um in etwa bestimmen zu können, wo sie liegt, testen wir, ab welchem Schalldruck ein Sinussignal der Frequenz $f_1 = 1 \\mathrm{kHz}$ nicht mehr hörbar ist.\n",
    "\n",
    "Der Effekt, dass ein Signal durch ein anderes Signal maskiert wird, und somit für den Menschen nicht mehr hörbar wird, wird bei der MP3-Codierung ausgenutzt, um die Datenmenge zu reduzieren."
   ]
  },
  {
   "cell_type": "markdown",
   "metadata": {},
   "source": [
    "<div class=\"alert rwth-topic\">\n",
    "\n",
    "## Aufgabe 2: Verdeckung\n",
    "\n",
    "Um den Wert der Maskierungsschwelle bei der Frequenz $f_1 = 1 \\mathrm{kHz}$ herauszufinden, erzeugen wir eine Sequenz von zehn Sinustönen mit der Frequenz $f_1 = 1 \\mathrm{kHz}$ und jeweils unterschiedlichem Schalldruck. Diese überlagern wir mit Rauschen (weißes Rauschen, Breitbandrauschen, Schmalbandrauschen). Anschließend zählen wir die Anzahl der hörbaren Sinustöne. Der erste nicht hörbare Sinuston verrät den Wert der Maskierungsschwelle bei der Frequenz  $f_1 = 1 \\mathrm{kHz}$ des Sinustons.\n",
    "</div>"
   ]
  },
  {
   "cell_type": "code",
   "execution_count": null,
   "metadata": {
    "jupyter": {
     "source_hidden": true
    }
   },
   "outputs": [],
   "source": [
    "from IPython.display import Video\n",
    "Video(\"http://www.ient.rwth-aachen.de/services/PTI-Videos/Einfuehrung_A2.mp4\", width=480, height=270 )"
   ]
  },
  {
   "cell_type": "markdown",
   "metadata": {},
   "source": [
    "<div class=\"alert alert-block rwth-subtopic\">\n",
    "    \n",
    "### Aufg. 2.1 Sinustöne erzeugen\n",
    "Erstellen Sie eine Folge von $10$ Sinussignalen mit Amplituden von $-15$, $-18$, $-21$, $-24$, $-27$, $-30$, $-33$, $-36$, $-39$ und $-42$ dB. Jedes dieser Signale soll eine Sekunde lang sein. Nach jedem Sinussignal soll eine Sekunde Pause folgen. Die Frequenz jedes Sinussignals sei  $f_1 = 1 \\mathrm{kHz}$. \n",
    "\n",
    "---\n",
    "\n",
    "_Hilfreiche Links_: \n",
    "[np.zeros();](https://docs.scipy.org/doc/numpy/reference/generated/numpy.zeros.html) \n",
    "[np.arange();](https://docs.scipy.org/doc/numpy/reference/generated/numpy.arange.html#numpy.arange)\n",
    "[np.sin();](https://docs.scipy.org/doc/numpy/reference/generated/numpy.sin.html)\n",
    "[np.hstack();](https://docs.scipy.org/doc/numpy/reference/generated/numpy.hstack.html) \n",
    "[ForLoop;](https://wiki.python.org/moin/ForLoop)\n",
    "[np.pi;](https://docs.scipy.org/doc/numpy/reference/constants.html)\n",
    "\n",
    "\n",
    "_Hinweis:_ \n",
    "In Python kann man ein leeres array mit __np.zeros(0)__ erstellen.\n",
    "\n",
    "</div>"
   ]
  },
  {
   "cell_type": "code",
   "execution_count": null,
   "metadata": {},
   "outputs": [],
   "source": [
    "#Bitte lösen Sie Aufgabe 1a in diesem Feld\n",
    "\n",
    "sinusseq = "
   ]
  },
  {
   "cell_type": "code",
   "execution_count": null,
   "metadata": {},
   "outputs": [],
   "source": [
    "fig, ax = plt.subplots(1,1)\n",
    "ax.set_xlabel('???');\n",
    "ax.set_ylabel('???');\n",
    "rwth_plt.axis(ax);\n",
    "ax.plot(sinusseq);"
   ]
  },
  {
   "cell_type": "markdown",
   "metadata": {},
   "source": [
    "<a id=\"section_1a\"></a>\n",
    "<div class=\"alert alert-block rwth-subtopic\">\n",
    "    \n",
    "### Frage:\n",
    "\n",
    "Welche Länge $N$ hat die komplette Sequenz?\n",
    "</div>"
   ]
  },
  {
   "cell_type": "code",
   "execution_count": null,
   "metadata": {},
   "outputs": [],
   "source": [
    "N ="
   ]
  },
  {
   "cell_type": "markdown",
   "metadata": {},
   "source": [
    "<div class=\"alert alert-block rwth-subtopic\">\n",
    "    \n",
    "### Aufg. 2.2 Einblenden und Ausblenden für die einzelnen Sinustöne erzeugen\n",
    "Versehen Sie jedes Sinussignal mit einer je 2000 Samples langen linearen Ein- und Ausblendung.\n",
    "\n",
    "***\n",
    "    \n",
    "_Hilfreiche Links_: \n",
    "[np.hstack();](https://docs.scipy.org/doc/numpy/reference/generated/numpy.hstack.html) \n",
    "[np.tile();](https://docs.scipy.org/doc/numpy/reference/generated/numpy.tile.html)\n",
    "[np.ones();](https://docs.scipy.org/doc/numpy/reference/generated/numpy.ones.html)\n",
    "[np.arange();](https://docs.scipy.org/doc/numpy/reference/generated/numpy.arange.html)\n",
    "\n",
    "</div>"
   ]
  },
  {
   "cell_type": "code",
   "execution_count": null,
   "metadata": {},
   "outputs": [],
   "source": [
    "# Bitte lösen Sie Aufgabe 1b in diesem Feld\n",
    "\n",
    "rampe = \n",
    "sinusseq_rampe = "
   ]
  },
  {
   "cell_type": "code",
   "execution_count": null,
   "metadata": {},
   "outputs": [],
   "source": [
    "fig, ax = plt.subplots(1,1)\n",
    "ax.set_xlabel('???');\n",
    "ax.set_ylabel('???');\n",
    "rwth_plt.axis(ax);\n",
    "ax.plot(sinusseq_rampe);"
   ]
  },
  {
   "cell_type": "code",
   "execution_count": null,
   "metadata": {},
   "outputs": [],
   "source": [
    "print('Hier können Sie sich Ihr Signal anhören')\n",
    "media.audio_play(sinusseq_rampe,44100)"
   ]
  },
  {
   "cell_type": "markdown",
   "metadata": {},
   "source": [
    "<div class=\"alert alert-block rwth-subtopic\">\n",
    "\n",
    "### Aufg. 2.3 Weißes Rauschen erzeugen\n",
    "Erzeugen Sie einen Vektor der zu Beginn dieses Aufgabenblocks bestimmten Länge $N$ (siehe Aufg. [1a](#section_1a)) mit gleichverteiltem weißen Rauschen im Wertebereich von $-1$ bis $+1$ und transformieren Sie ihn in den Frequenzbereich.\n",
    "\n",
    "***\n",
    "\n",
    "_Hilfreiche Links_: \n",
    "[np.random.rand();](https://docs.scipy.org/doc/numpy-1.14.0/reference/generated/numpy.random.rand.html)\n",
    "[np.fft.fft()](https://docs.scipy.org/doc/numpy/reference/generated/numpy.fft.fft.html) \n",
    "</div>"
   ]
  },
  {
   "cell_type": "code",
   "execution_count": null,
   "metadata": {},
   "outputs": [],
   "source": [
    "#Bitte lösen Sie Aufgabe 2a in diesem Feld\n",
    "\n",
    "white = \n",
    "white_freq = "
   ]
  },
  {
   "cell_type": "markdown",
   "metadata": {},
   "source": [
    "<a id=\"section_1a\"></a>\n",
    "<div class=\"alert alert-block rwth-subtopic\">\n",
    "\n",
    "### Frage:\n",
    "\n",
    "Welche Koeffizienten $k$ entsprechen am ehesten den Frequenzen $f$ = $200$ Hz, $900$ Hz, $1$ kHz,$1.1$ kHz und $1.8$ kHz? Füllen Sie die Tabelle in der nächsten Zelle aus. \n",
    "\n",
    "</div>"
   ]
  },
  {
   "cell_type": "markdown",
   "metadata": {},
   "source": [
    "| f in Hz     | 200| 900| 1000| 1100| 1800|\n",
    "|-------------|----|----|-----|-----|-----|\n",
    "| k           |    |    |     |     |     |\n"
   ]
  },
  {
   "cell_type": "markdown",
   "metadata": {},
   "source": [
    "<div class=\"alert alert-block rwth-subtopic\">\n",
    "\n",
    "### Aufg. 2.4 Aus Weißem Rauschen Breitbandrauschen und Schmalbandrauschen erzeugen\n",
    "Erstellen Sie zwei Kopien des Ergebnisses der vorigen Aufgabe. Filtern Sie diese Kopien, indem Sie die Koeffizienten außerhalb des Frequenzbereichs von $f = [900 \\mathrm{Hz},1100 \\mathrm{Hz}]$ bzw. $f = [200 \\mathrm{Hz},1800 \\mathrm{Hz}]$ auf Null setzen. Transformieren Sie alle drei Ergebnisse wieder in den Zeitbereich.\n",
    "\n",
    "***\n",
    "\n",
    "    \n",
    "_Hinweis:_ Der '=' Operator erzeugt in Python keine Kopie des Objektes, sondern erzeugt einen Variablen Zeiger, der auf das selbe Objekt zeigt.\n",
    "    \n",
    "_Hilfreiche Links_: \n",
    "[np.copy();](https://docs.scipy.org/doc/numpy/reference/generated/numpy.copy.html)\n",
    "[np.fft.irfft();](https://docs.scipy.org/doc/numpy/reference/generated/numpy.fft.irfft.html) \n",
    "[np.size()](https://docs.scipy.org/doc/numpy/reference/generated/numpy.ndarray.size.html) oder \n",
    "[np.shape()](https://docs.scipy.org/doc/numpy/reference/generated/numpy.ndarray.shape.html) \n",
    "\n",
    "***    \n",
    "    \n",
    "#### Hilfestellung:\n",
    "\n",
    "Für reellwertige Signale gilt, dass sie ein komplex gerades Spektrum besitzen. D.h. $S(f) = S^*(-f)$.\n",
    "\n",
    "\n",
    "Darüberhinaus gilt für abgestastete Signale, dass ihr Spektrum periodisch ist. Im Fall der Disktreten Fourier-Transformation ist zusätzlich die Frequenzachse disktretisiert. D.h. das DFT-Spektrum eines reellwertigen Signals ist komplex gerade, periodisch und diskret.\n",
    "\n",
    "\n",
    "Die diskrete Fourier-Transformation berechnet hierbei das diskrete Spektrum im Bereich $0 \\leq k \\leq N-1$, wobei $N$ die Transformationslänge ist. Bei $k =N$ befindet sich eine periodische Kopie des Basisbands. Für reellwertige Signale, die ein komplex gerades Spektrum\n",
    " besitzen, sind alle Information der DFT in $0 \\leq k  \\leq \\frac{N}{2}$ enthalten, da die zweite Hälfte komplex gerade ergänzbar ist. Diese Eigenschaft machen sich die rfft und die irfft zu nutze.\n",
    "\n",
    "</div>"
   ]
  },
  {
   "cell_type": "code",
   "execution_count": null,
   "metadata": {},
   "outputs": [],
   "source": [
    "#Bitte lösen Sie Aufgabe 2b in diesem Feld\n",
    "\n",
    "small_band_freq = \n",
    "wide_band_freq = \n",
    "\n",
    "\n",
    "small_band = \n",
    "wide_band = "
   ]
  },
  {
   "cell_type": "code",
   "execution_count": null,
   "metadata": {},
   "outputs": [],
   "source": [
    "fig, ax = plt.subplots(1,1)\n",
    "ax.set_xlabel('???');\n",
    "ax.set_ylabel('???');\n",
    "rwth_plt.axis(ax);\n",
    "ax.plot( np.absolute(small_band_freq) );"
   ]
  },
  {
   "cell_type": "code",
   "execution_count": null,
   "metadata": {},
   "outputs": [],
   "source": [
    "fig, ax = plt.subplots(1,1)\n",
    "ax.set_xlabel('???');\n",
    "ax.set_ylabel('???');\n",
    "rwth_plt.axis(ax);\n",
    "ax.plot( np.absolute(wide_band_freq) );"
   ]
  },
  {
   "cell_type": "markdown",
   "metadata": {},
   "source": [
    "<div class=\"alert alert-block rwth-subtopic\">\n",
    "\n",
    "### Aufg. 2.5 Energie aller Rauschsignale anpassen\n",
    "Multiplizieren Sie jedes Rauschsignal mit jeweils einem geeigneten Faktor, sodass:\n",
    "    \n",
    "• das Rauschen mit dem schmalsten Frequenzbereich im Wertebereich von $-0,5\\ldots0,5$ liegt und diesen Wertebereich voll ausnutzt.\n",
    "\n",
    "• die Energie aller Rauschsignale (auch des Weißen Rauschens) auf das Rauschen mit dem schmalsten Frequenzbereich normiert wird. \n",
    "    \n",
    "Hören Sie sie sich die Rauschdateien an.\n",
    "\n",
    "***\n",
    "\n",
    "_Hilfreiche Links_: \n",
    "[np.absolute();](https://docs.scipy.org/doc/numpy/reference/generated/numpy.absolute.html)\n",
    "[np.amax();](https://docs.scipy.org/doc/numpy/reference/generated/numpy.amax.html)\n",
    "[np.sum();](https://docs.scipy.org/doc/numpy/reference/generated/numpy.sum.html)\n",
    "[np.sqrt();](https://docs.scipy.org/doc/numpy/reference/generated/numpy.sqrt.html)\n",
    "\n",
    "</div>"
   ]
  },
  {
   "cell_type": "code",
   "execution_count": null,
   "metadata": {},
   "outputs": [],
   "source": [
    "#Bitte lösen Sie Aufgabe 2c in diesem Feld\n",
    "\n",
    "\n",
    "small_band_norm = \n",
    "\n",
    "sbEnergy = \n",
    "wbEnergy = \n",
    "wnEnergy =\n",
    "\n",
    "wide_band_norm = \n",
    "white_norm = "
   ]
  },
  {
   "cell_type": "code",
   "execution_count": null,
   "metadata": {},
   "outputs": [],
   "source": [
    "print('Weißes Rauschen')\n",
    "media.audio_play(white_norm, 44100)\n",
    "print(' Schmalbandrauschen')\n",
    "media.audio_play(small_band_norm, 44100);\n",
    "print('Breitbandrauschen')\n",
    "media.audio_play(wide_band_norm, 44100);"
   ]
  },
  {
   "cell_type": "markdown",
   "metadata": {},
   "source": [
    "<div class=\"alert alert-block rwth-subtopic\">\n",
    "\n",
    "## Aufgabe 2.6: Akustische Untersuchung der Verdeckung im Frequenzbereich\n",
    "Addieren Sie zu jedem Rauschsignal die in Aufgabe 1 erstellte Sinusfolge. \n",
    "\n",
    "Stellen Sie die Lautstärke des Kopfhörers so ein, dass Sie den leisesten Ton der Sinusfolge noch gerade so hören können. Hören Sie sich nun die Kombinationen aus Rauschen und Sinusfolge an. Notieren Sie, wie viele Sinussignale Sie bei welchem Hintergrundrauschen erkennen können. Können Sie sich das Ergebnis erklären?\n",
    "\n",
    "***\n",
    "\n",
    "_Hilfreiche Links_: \n",
    "[media.audio_play(signal,fs)](../Vorbereitung/Befehlsreferenzen.ipynb)\n",
    "</div>"
   ]
  },
  {
   "cell_type": "code",
   "execution_count": null,
   "metadata": {},
   "outputs": [],
   "source": [
    "#Bitte lösen Sie Aufgabe 3 in diesem Feld\n",
    "\n",
    "sin_white = \n",
    "sin_small_band_noise = \n",
    "sin_wide_band_noise = \n"
   ]
  },
  {
   "cell_type": "code",
   "execution_count": null,
   "metadata": {},
   "outputs": [],
   "source": [
    "print('Weißes Rauschen und Sinusfolge')\n",
    "media.audio_play(sin_white, 44100)\n",
    "print(' Schmalbandrauschen und Sinusfolge')\n",
    "media.audio_play(sin_small_band_noise, 44100);\n",
    "print('Breitbandrauschen und Sinusfolge')\n",
    "media.audio_play(sin_wide_band_noise, 44100);"
   ]
  },
  {
   "cell_type": "markdown",
   "metadata": {},
   "source": [
    "---\n",
    "\n",
    "<div class=\"alert alert-block rwth-feedback\">\n",
    "\n",
    "## Feedback\n",
    "\n",
    "Liebe TeilnehmerInnen,\n",
    "\n",
    "wir würden uns freuen, wenn ihr am Ende jeder Aufgabe kurz eure Meinung aufschreibt. Ihr könnt auf die darunter liegende Zelle zugreifen und eure Anmerkungen zu der Aufgabe (oder auch Generelles) reinschreiben.\n",
    "</div>"
   ]
  },
  {
   "cell_type": "code",
   "execution_count": null,
   "metadata": {
    "editable": false,
    "jupyter": {
     "source_hidden": true
    }
   },
   "outputs": [],
   "source": [
    "rwth_feedback.rwth_feedback('Feedback V7.2', [\n",
    "    {'id': 'likes', 'type': 'free-text', 'label': 'Das war gut:'}, \n",
    "    {'id': 'dislikes', 'type': 'free-text', 'label': 'Das könnte verbessert werden:'}, \n",
    "    {'id': 'misc', 'type': 'free-text', 'label': 'Was ich sonst noch sagen möchte:'}, \n",
    "    {'id': 'learning', 'type': 'scale', 'label' : 'Ich habe das Gefühl etwas gelernt zu haben.'},\n",
    "    {'id': 'supervision', 'type': 'scale', 'label' : 'Die Betreuung des Versuchs war gut.'},\n",
    "    {'id': 'script', 'type': 'scale', 'label' : 'Die Versuchsunterlagen sind verständlich.'},\n",
    "], \"feedback.json\", 'pti@ient.rwth-aachen.de')"
   ]
  }
 ],
 "metadata": {
  "kernelspec": {
   "display_name": "Python 3",
   "language": "python",
   "name": "python3"
  },
  "language_info": {
   "codemirror_mode": {
    "name": "ipython",
    "version": 3
   },
   "file_extension": ".py",
   "mimetype": "text/x-python",
   "name": "python",
   "nbconvert_exporter": "python",
   "pygments_lexer": "ipython3",
   "version": "3.7.6"
  },
  "toc": {
   "base_numbering": 1,
   "nav_menu": {},
   "number_sections": true,
   "sideBar": true,
   "skip_h1_title": false,
   "title_cell": "Table of Contents",
   "title_sidebar": "Contents",
   "toc_cell": false,
   "toc_position": {},
   "toc_section_display": true,
   "toc_window_display": false
  },
  "varInspector": {
   "cols": {
    "lenName": 16,
    "lenType": 16,
    "lenVar": 40
   },
   "kernels_config": {
    "python": {
     "delete_cmd_postfix": "",
     "delete_cmd_prefix": "del ",
     "library": "var_list.py",
     "varRefreshCmd": "print(var_dic_list())"
    },
    "r": {
     "delete_cmd_postfix": ") ",
     "delete_cmd_prefix": "rm(",
     "library": "var_list.r",
     "varRefreshCmd": "cat(var_dic_list()) "
    }
   },
   "oldHeight": 850.85,
   "position": {
    "height": "40px",
    "left": "1552px",
    "right": "28px",
    "top": "116px",
    "width": "338px"
   },
   "types_to_exclude": [
    "module",
    "function",
    "builtin_function_or_method",
    "instance",
    "_Feature"
   ],
   "varInspector_section_display": "none",
   "window_display": true
  }
 },
 "nbformat": 4,
 "nbformat_minor": 4
}
