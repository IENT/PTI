{
 "cells": [
  {
   "cell_type": "markdown",
   "metadata": {},
   "source": [
    "<div>\n",
    "    <img src=\"http://www.ient.rwth-aachen.de/cms/uploads/images/rwth_ient_logo@2x.png\" style=\"float: right;height: 5em;\">\n",
    "</div>"
   ]
  },
  {
   "cell_type": "code",
   "execution_count": null,
   "metadata": {
    "jupyter": {
     "source_hidden": true
    }
   },
   "outputs": [],
   "source": [
    "#import libraries\n",
    "import os\n",
    "import numpy as np\n",
    "import matplotlib.pyplot as plt\n",
    "import IPython.display as ipd\n",
    "from scipy.io import wavfile\n",
    "\n",
    "from rwth_nb.misc import media\n",
    "\n",
    "def mp3coder(in_array,fs):\n",
    "    \"\"\" MP3CODER wendet auf ein npArray den MP3 Coder Lame an\n",
    "\n",
    "        liest ein npArray ein, convertiert dies in die temp.wav Datei. Aus diesem Audiosignale wird \n",
    "        mittels des Lame encoders ein mp3-File erzeugt. Das so erzeugte File wird im aktuellen \n",
    "        Verzeichnis unter dem Namen temp.mp3 abgespeichert.\n",
    "\n",
    "        Im Anschluss wird das mp3-File mithilfe des Lame decoder in die 'tempdec.wav' Datei convertiert \n",
    "        und anschließend wieder in ein npArray\n",
    "    \"\"\" \n",
    "    import os\n",
    "    \n",
    "    wavfile.write('temp.wav', fs, np.float32(in_array))\n",
    "\n",
    "    os.system('lame -q 0 temp.wav temp.mp3')\n",
    "    wav_size = os.path.getsize('temp.wav')\n",
    "    mp3_size = os.path.getsize('temp.mp3')\n",
    "    print('Die Größe des uncodierten Signals beträgt ' + str(wav_size) + ' bytes \\n')\n",
    "    print('Die Größe des mp3 codierten Signals beträgt ' + str(mp3_size) + ' bytes \\n')\n",
    "\n",
    "    os.system('lame --decode temp.mp3 tempdec.wav')\n",
    "\n",
    "    [fs,signal] = wavfile.read('tempdec.wav')\n",
    "    os.system('rm temp*')\n",
    "    signal = signal/2**15\n",
    "\n",
    "    return fs, signal\n"
   ]
  },
  {
   "cell_type": "markdown",
   "metadata": {},
   "source": [
    "# Akustische Analyse der Codiereffizienz \n",
    "\n",
    "Zum Starten: Im Menü: Run <span class=\"fa-chevron-right fa\"></span> Run All Cells auswählen."
   ]
  },
  {
   "cell_type": "markdown",
   "metadata": {},
   "source": [
    "<div class=\"alert rwth-topic\">\n",
    "\n",
    "### Aufgabe 1: MP3-Codierung \n",
    "Lesen Sie ein beliebiges Musiksignal ein und wenden Sie anschließend einen MP3-Coder auf das Musiksignal an.\n",
    "\n",
    "***\n",
    "\n",
    "_Hilfreiche Links_: \n",
    "[wavfile.read();](https://docs.scipy.org/doc/scipy/reference/generated/scipy.io.wavfile.read.html#scipy.io.wavfile.read)\n",
    "[mp3coder](../Vorbereitung/Befehlsreferenzen.ipynb)\n",
    "\n",
    "</div>"
   ]
  },
  {
   "cell_type": "code",
   "execution_count": null,
   "metadata": {},
   "outputs": [],
   "source": [
    "#Bitte lösen Sie Aufgabe 1 in diesem Feld\n",
    "\n",
    "[signal_original,rate_original] = \n",
    "[rate_codiert, signal_codiert] = "
   ]
  },
  {
   "cell_type": "markdown",
   "metadata": {},
   "source": [
    "<div class=\"alert rwth-topic\">\n",
    "\n",
    "### Aufgabe 2:\n",
    "Bilden Sie das Differenzsignal aus dem Originalsignal und dem codierten Signal. Hören Sie sich zunächst das Originalsignal und anschließend das codierte Signal an. Können Sie einen Unterschied hören? Hören Sie sich nun das Differenzignal an. Welche Verdeckungseffekte sind zu erkennen?\n",
    "\n",
    "***\n",
    "\n",
    "_Hilfreiche Links_: \n",
    "[media.audio_play(signal,fs)](../Vorbereitung/Befehlsreferenzen.ipynb)\n",
    "\n",
    "</div>"
   ]
  },
  {
   "cell_type": "code",
   "execution_count": null,
   "metadata": {},
   "outputs": [],
   "source": [
    "#Bitte lösen Sie Aufgabe 2 in diesem Feld\n",
    "\n",
    "signal_diff = "
   ]
  },
  {
   "cell_type": "code",
   "execution_count": null,
   "metadata": {},
   "outputs": [],
   "source": [
    "print('Originalsignal')\n",
    "media.audio_play(signal_original,44100)\n",
    "print('MP3 codiertes Signal')\n",
    "media.audio_play(signal_codiert,44100)\n",
    "print('Differenzsignal')\n",
    "media.audio_play(signal_diff,44100)"
   ]
  },
  {
   "cell_type": "markdown",
   "metadata": {},
   "source": [
    "---\n",
    "\n",
    "<div class=\"alert alert-block rwth-feedback\">\n",
    "\n",
    "## Feedback\n",
    "\n",
    "Liebe TeilnehmerInnen,\n",
    "\n",
    "wir würden uns freuen, wenn ihr am Ende jeder Aufgabe kurz eure Meinung aufschreibt. Ihr könnt auf die darunter liegende Zelle zugreifen und eure Anmerkungen zu der Aufgabe (oder auch Generelles) reinschreiben.\n",
    "</div>"
   ]
  },
  {
   "cell_type": "markdown",
   "metadata": {
    "validation": true
   },
   "source": [
    "__Was war gut?__\n",
    "* ...\n",
    "* ...\n",
    "\n",
    "__Was war nicht so gut?__\n",
    "* ...\n",
    "* ...\n",
    "\n",
    "__Was ich sonst noch sagen möchte:__\n",
    "* ...\n",
    "* ..."
   ]
  }
 ],
 "metadata": {
  "kernelspec": {
   "display_name": "Python 3",
   "language": "python",
   "name": "python3"
  },
  "language_info": {
   "codemirror_mode": {
    "name": "ipython",
    "version": 3
   },
   "file_extension": ".py",
   "mimetype": "text/x-python",
   "name": "python",
   "nbconvert_exporter": "python",
   "pygments_lexer": "ipython3",
   "version": "3.7.6"
  },
  "toc": {
   "base_numbering": 1,
   "nav_menu": {},
   "number_sections": true,
   "sideBar": true,
   "skip_h1_title": false,
   "title_cell": "Table of Contents",
   "title_sidebar": "Contents",
   "toc_cell": false,
   "toc_position": {},
   "toc_section_display": true,
   "toc_window_display": false
  },
  "varInspector": {
   "cols": {
    "lenName": 16,
    "lenType": 16,
    "lenVar": 40
   },
   "kernels_config": {
    "python": {
     "delete_cmd_postfix": "",
     "delete_cmd_prefix": "del ",
     "library": "var_list.py",
     "varRefreshCmd": "print(var_dic_list())"
    },
    "r": {
     "delete_cmd_postfix": ") ",
     "delete_cmd_prefix": "rm(",
     "library": "var_list.r",
     "varRefreshCmd": "cat(var_dic_list()) "
    }
   },
   "position": {
    "height": "585.85px",
    "left": "1453px",
    "right": "17px",
    "top": "120px",
    "width": "450px"
   },
   "types_to_exclude": [
    "module",
    "function",
    "builtin_function_or_method",
    "instance",
    "_Feature"
   ],
   "window_display": false
  }
 },
 "nbformat": 4,
 "nbformat_minor": 4
}
