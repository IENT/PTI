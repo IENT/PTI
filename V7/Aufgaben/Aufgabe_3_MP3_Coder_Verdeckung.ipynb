{
 "cells": [
  {
   "cell_type": "markdown",
   "metadata": {},
   "source": [
    "<div>\n",
    "    <img src=\"http://www.ient.rwth-aachen.de/cms/uploads/images/rwth_ient_logo@2x.png\" style=\"float: right;height: 5em;\">\n",
    "</div>"
   ]
  },
  {
   "cell_type": "code",
   "execution_count": null,
   "metadata": {
    "jupyter": {
     "source_hidden": true
    }
   },
   "outputs": [],
   "source": [
    "%matplotlib widget \n",
    "\n",
    "#import libraries\n",
    "import ipywidgets as widgets\n",
    "import os\n",
    "import numpy as np\n",
    "import matplotlib.pyplot as plt\n",
    "import rwth_nb.plots.mpl_decorations as rwth_plt\n",
    "import IPython.display as ipd\n",
    "\n",
    "# rwth_nb feedback\n",
    "import rwth_nb.misc.feedback as rwth_feedback\n",
    "\n",
    "from scipy.io import wavfile\n",
    "\n",
    "def mp3coder(in_array,fs):\n",
    "    \"\"\" MP3CODER wendet auf ein npArray den MP3 Coder Lame an\n",
    "\n",
    "        liest ein npArray ein, convertiert dies in die temp.wav Datei. Aus diesem Audiosignale wird \n",
    "        mittels des Lame encoders ein mp3-File erzeugt. Das so erzeugte File wird im aktuellen \n",
    "        Verzeichnis unter dem Namen temp.mp3 abgespeichert.\n",
    "\n",
    "        Im Anschluss wird das mp3-File mithilfe des Lame decoder in die 'tempdec.wav' Datei convertiert \n",
    "        und anschließend wieder in ein npArray\n",
    "    \"\"\" \n",
    "    import os\n",
    "    \n",
    "    wavfile.write('temp.wav', fs, np.float32(in_array))\n",
    "\n",
    "    os.system('lame -q 0 temp.wav temp.mp3')\n",
    "    wav_size = os.path.getsize('temp.wav')\n",
    "    mp3_size = os.path.getsize('temp.mp3')\n",
    "    print('Die Größe des uncodierten Signals beträgt ' + str(wav_size) + ' bytes \\n')\n",
    "    print('Die Größe des mp3 codierten Signals beträgt ' + str(mp3_size) + ' bytes \\n')\n",
    "\n",
    "    os.system('lame --decode temp.mp3 tempdec.wav')\n",
    "\n",
    "    [fs,signal] = wavfile.read('tempdec.wav')\n",
    "    os.system('rm temp*')\n",
    "    signal = signal/2**15\n",
    "\n",
    "    return fs, signal\n",
    "\n"
   ]
  },
  {
   "cell_type": "markdown",
   "metadata": {},
   "source": [
    "<a id=\"section_753\"></a>\n",
    "# Nutzung der Verdeckung im MP3-Encoder\n",
    "\n",
    "Zum Starten: Im Menü: Run <span class=\"fa-chevron-right fa\"></span> Run All Cells auswählen."
   ]
  },
  {
   "cell_type": "code",
   "execution_count": null,
   "metadata": {
    "jupyter": {
     "source_hidden": true
    }
   },
   "outputs": [],
   "source": [
    "from IPython.display import Video\n",
    "Video(\"https://www.ient.rwth-aachen.de/cms/uploads/public/video/PTI-Videos/A3_und_4.mp4\", width=480, height=270 )"
   ]
  },
  {
   "cell_type": "markdown",
   "metadata": {},
   "source": [
    "<div class=\"alert alert-block rwth-subtopic\">\n",
    "\n",
    "### Aufgabe 3.1: Periodisches Signal erzeugen\n",
    "Gegeben sei die zeitkontinuierliche Funktion:\n",
    "\n",
    "$s_{\\text{p}}(t) = \\sum\\limits_{i=1}^3 \\sin(2\\pi f_i t)$\n",
    "\n",
    "mit $f_1 = 500 \\mathrm{Hz}$, $f_2 = 2 \\mathrm{kHz}$ und $f_3 = 5 \\mathrm{kHz}$. Erzeugen Sie ein entsprechendes Signal der Länge $1 \\mathrm{s}$.\n",
    "\n",
    "***\n",
    "\n",
    "_Hilfreiche Links_: \n",
    "[np.arange();](https://docs.scipy.org/doc/numpy/reference/generated/numpy.arange.html#numpy.arange)\n",
    "[np.sin();](https://docs.scipy.org/doc/numpy/reference/generated/numpy.sin.html)\n",
    "[np.pi](https://docs.scipy.org/doc/numpy/reference/constants.html)\n",
    "</div>"
   ]
  },
  {
   "cell_type": "code",
   "execution_count": null,
   "metadata": {},
   "outputs": [],
   "source": [
    "#Bitte lösen Sie Aufgabe 1 in diesem Feld\n",
    "\n",
    "s = "
   ]
  },
  {
   "cell_type": "markdown",
   "metadata": {},
   "source": [
    "<div class=\"alert alert-block rwth-subtopic\">\n",
    "\n",
    "### Aufgabe 3.2: Maskiertes Signal erzeugen\n",
    "Lesen Sie nun die erste Sekunde des Musiksignals **abba.wav** ein.\n",
    "\n",
    "***\n",
    "\n",
    "_Hilfreiche Links_: \n",
    "[wavfile.read();](https://docs.scipy.org/doc/scipy/reference/generated/scipy.io.wavfile.read.html#scipy.io.wavfile.read)\n",
    "</div>"
   ]
  },
  {
   "cell_type": "code",
   "execution_count": null,
   "metadata": {},
   "outputs": [],
   "source": [
    "#Bitte lösen Sie Aufgabe 2 in diesem Feld\n",
    "\n",
    "[rate,signal] = \n",
    "signal_1sec = "
   ]
  },
  {
   "cell_type": "markdown",
   "metadata": {},
   "source": [
    "<div class=\"alert alert-block rwth-subtopic\">\n",
    "\n",
    "### Aufgabe 3.3: MP3-Codierung\n",
    "Addieren Sie das periodische Signal aus der obigen Aufgabe auf das Musik-Signal. Normieren Sie das so entstandene Summensignal, sodass kein Clipping auftritt. Clipping tritt immer dann auf, wenn das Signal über den erlaubten Wertebereich hinaus geht. In diesem Versuch ist der Wertebereich des MP3-Coders für Datentyp Float zwischen (-1,1).\n",
    "\n",
    "Wenden Sie einen MP3-Coder auf das normierte Summensignal an.\n",
    "\n",
    "***\n",
    "\n",
    "_Hilfreiche Links_: \n",
    "[np.amax();](https://docs.scipy.org/doc/numpy/reference/generated/numpy.amax.html)\n",
    "[np.absolute();](https://docs.scipy.org/doc/numpy/reference/generated/numpy.absolute.html)\n",
    "[mp3coder](../Vorbereitung/Befehlsreferenzen.ipynb)\n",
    "</div>"
   ]
  },
  {
   "cell_type": "code",
   "execution_count": null,
   "metadata": {},
   "outputs": [],
   "source": [
    "#Bitte lösen Sie Aufgabe 3 in diesem Feld\n",
    "\n",
    "sumsin = \n",
    "sumsin_normiert = \n",
    "\n",
    "[rate, sumsin_codiert ] = "
   ]
  },
  {
   "cell_type": "markdown",
   "metadata": {},
   "source": [
    "<div class=\"alert alert-block rwth-subtopic\">\n",
    "\n",
    "### Aufgabe 3.4: Bildung des Differenzsignals\n",
    "Bilden Sie das Differenzsignal zwischen Original und codiertem Signal.\n",
    "\n",
    "</div>"
   ]
  },
  {
   "cell_type": "code",
   "execution_count": null,
   "metadata": {},
   "outputs": [],
   "source": [
    "#Bitte lösen Sie Aufgabe 4 in diesem Feld\n",
    "\n",
    "diff_signal ="
   ]
  },
  {
   "cell_type": "markdown",
   "metadata": {},
   "source": [
    "<div class=\"alert alert-block rwth-subtopic\">\n",
    "\n",
    "### Aufgabe 3.5: Analyse des Differenzsignals mithilfe des Leistungsdichtespektrums\n",
    "\n",
    "Bilden Sie das Leistungsdichtespektrum des Differenzsignals, indem Sie  \n",
    "\n",
    "* die FFT bilden \n",
    "* für jeden Wert des Vektors den Betrag bilden und \n",
    "* jeden Wert des Vektors quadrieren.\n",
    "\n",
    "Stellen Sie das Leistungsdichtespektrum in dB grafisch dar.\n",
    "\n",
    "***\n",
    "\n",
    "_Hilfreiche Links_: \n",
    "[np.fft.fft()](https://docs.scipy.org/doc/numpy/reference/generated/numpy.fft.fft.html);\n",
    "[np.absolute()](https://docs.scipy.org/doc/numpy/reference/generated/numpy.absolute.html);\n",
    "[np.log10()](https://docs.scipy.org/doc/numpy/reference/generated/numpy.log10.html); \n",
    "\n",
    "</div>"
   ]
  },
  {
   "cell_type": "code",
   "execution_count": null,
   "metadata": {},
   "outputs": [],
   "source": [
    "#Bitte lösen Sie Aufgabe 5 in diesem Feld\n",
    "\n",
    "diff_signal_freq = \n",
    "leistungsdichtespektrum =\n"
   ]
  },
  {
   "cell_type": "code",
   "execution_count": null,
   "metadata": {},
   "outputs": [],
   "source": [
    "fig, ax = plt.subplots(1,1)\n",
    "ax.set_xlabel('???');\n",
    "ax.set_ylabel('???');\n",
    "rwth_plt.axis(ax);\n",
    "ax.plot();"
   ]
  }
 ],
 "metadata": {
  "kernelspec": {
   "display_name": "Python 3",
   "language": "python",
   "name": "python3"
  },
  "language_info": {
   "codemirror_mode": {
    "name": "ipython",
    "version": 3
   },
   "file_extension": ".py",
   "mimetype": "text/x-python",
   "name": "python",
   "nbconvert_exporter": "python",
   "pygments_lexer": "ipython3",
   "version": "3.7.8"
  },
  "toc": {
   "base_numbering": 1,
   "nav_menu": {},
   "number_sections": true,
   "sideBar": true,
   "skip_h1_title": false,
   "title_cell": "Table of Contents",
   "title_sidebar": "Contents",
   "toc_cell": false,
   "toc_position": {},
   "toc_section_display": true,
   "toc_window_display": false
  },
  "varInspector": {
   "cols": {
    "lenName": 16,
    "lenType": 16,
    "lenVar": 40
   },
   "kernels_config": {
    "python": {
     "delete_cmd_postfix": "",
     "delete_cmd_prefix": "del ",
     "library": "var_list.py",
     "varRefreshCmd": "print(var_dic_list())"
    },
    "r": {
     "delete_cmd_postfix": ") ",
     "delete_cmd_prefix": "rm(",
     "library": "var_list.r",
     "varRefreshCmd": "cat(var_dic_list()) "
    }
   },
   "types_to_exclude": [
    "module",
    "function",
    "builtin_function_or_method",
    "instance",
    "_Feature"
   ],
   "window_display": false
  }
 },
 "nbformat": 4,
 "nbformat_minor": 4
}
