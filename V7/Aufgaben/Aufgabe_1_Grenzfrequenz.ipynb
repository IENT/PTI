{
 "cells": [
  {
   "cell_type": "markdown",
   "metadata": {},
   "source": [
    "<div>\n",
    "    <img src=\"http://www.ient.rwth-aachen.de/cms/uploads/images/rwth_ient_logo@2x.png\" style=\"float: right;height: 5em;\">\n",
    "</div>"
   ]
  },
  {
   "cell_type": "code",
   "execution_count": null,
   "metadata": {
    "jupyter": {
     "source_hidden": true
    }
   },
   "outputs": [],
   "source": [
    "%matplotlib widget \n",
    "\n",
    "#import libraries\n",
    "import ipywidgets as widgets\n",
    "import os\n",
    "import numpy as np\n",
    "import matplotlib.pyplot as plt\n",
    "import rwth_nb.plots.mpl_decorations as rwth_plt\n",
    "import IPython.display as ipd\n",
    "from scipy.io import wavfile\n",
    "\n",
    "def mp3coder(in_array,fs):\n",
    "    \"\"\" MP3CODER wendet auf ein npArray den MP3 Coder Lame an\n",
    "\n",
    "        liest ein npArray ein, convertiert dies in die temp.wav Datei. Aus diesem Audiosignale wird \n",
    "        mittels des Lame encoders ein mp3-File erzeugt. Das so erzeugte File wird im aktuellen \n",
    "        Verzeichnis unter dem Namen temp.mp3 abgespeichert.\n",
    "\n",
    "        Im Anschluss wird das mp3-File mithilfe des Lame decoder in die 'tempdec.wav' Datei convertiert \n",
    "        und anschließend wieder in ein npArray\n",
    "    \"\"\" \n",
    "    import os\n",
    "    \n",
    "    wavfile.write('temp.wav', fs, np.float32(in_array))\n",
    "\n",
    "    os.system('lame -q 0 temp.wav temp.mp3')\n",
    "    wav_size = os.path.getsize('temp.wav')\n",
    "    mp3_size = os.path.getsize('temp.mp3')\n",
    "    print('Die Größe des uncodierten Signals beträgt ' + str(wav_size) + ' bytes \\n')\n",
    "    print('Die Größe des mp3 codierten Signals beträgt ' + str(mp3_size) + ' bytes \\n')\n",
    "\n",
    "    os.system('lame --decode temp.mp3 tempdec.wav')\n",
    "\n",
    "    [fs,signal] = wavfile.read('tempdec.wav')\n",
    "    os.system('rm temp*')\n",
    "    signal = signal/2**15\n",
    "\n",
    "    return fs, signal\n"
   ]
  },
  {
   "cell_type": "markdown",
   "metadata": {},
   "source": [
    "<a id=\"section_751\"></a>\n",
    "\n",
    "# Bestimmung der MP3-Grenzfrequenz\n",
    "\n",
    "Zum Starten: Im Menü: Run <span class=\"fa-chevron-right fa\"></span> Run All Cells auswählen.\n",
    "\n",
    "Bei der MP3-Codierung werden hochfrequente Anteile, die nicht hörbar sind, herausgefiltert und nicht codiert. Im Folgenden soll die Grenzfrequenz $f_g$ bestimmt werden. "
   ]
  },
  {
   "cell_type": "markdown",
   "metadata": {},
   "source": [
    "<div class=\"alert rwth-topic\">\n",
    "\n",
    "### Aufgabe 1: Einheitsimpuls erzeugen:\n",
    "\n",
    "Erzeugen Sie einen Vektor aus 44100 Nullen. Setzen Sie den Wert an der Stelle 5000 auf 0.99. \n",
    "\n",
    "***\n",
    "\n",
    "_Hilfreiche Links_: \n",
    "[np.zeros()](https://docs.scipy.org/doc/numpy/reference/generated/numpy.zeros.html)\n",
    "</div>"
   ]
  },
  {
   "cell_type": "code",
   "execution_count": null,
   "metadata": {},
   "outputs": [],
   "source": [
    "#Bitte lösen Sie Aufgabe 1 in diesem Feld\n",
    "\n",
    "signal =  "
   ]
  },
  {
   "cell_type": "markdown",
   "metadata": {},
   "source": [
    "<div class=\"alert rwth-topic\">\n",
    "\n",
    "### Aufgabe 2: MP3 Codieren\n",
    "\n",
    "Wenden Sie einen MP3-Coder auf das Signal an.\n",
    "\n",
    "***\n",
    "\n",
    "_Hilfreiche Links_: \n",
    "[mp3coder()](../Vorbereitung/Befehlsreferenzen.ipynb)\n",
    "</div>"
   ]
  },
  {
   "cell_type": "code",
   "execution_count": null,
   "metadata": {},
   "outputs": [],
   "source": [
    "#Bitte lösen Sie Aufgabe 2 in diesem Feld\n",
    "\n",
    "[fs, signal_mp3] = "
   ]
  },
  {
   "cell_type": "markdown",
   "metadata": {},
   "source": [
    "<div class=\"alert rwth-topic\">\n",
    "\n",
    "### Aufgabe 3: Analyse des Signals in Zeit- und Frequenzbereich\n",
    "\n",
    "Stellen Sie das modifizierte Signal grafisch im Zeitbereich dar. Transformieren Sie das Signal in den Frequenzbereich. Welche spektralen Anteile sind vorhanden? Wo liegt die Grenzfrequenz $f_g$?\n",
    "\n",
    "***\n",
    "\n",
    "_Hilfreiche Links_:  \n",
    "[np.absolute();](https://docs.scipy.org/doc/numpy/reference/generated/numpy.absolute.html) \n",
    "[np.fft.fft();](https://docs.scipy.org/doc/numpy/reference/generated/numpy.fft.fft.html)\n",
    "[plt.plot();](https://matplotlib.org/tutorials/introductory/pyplot.html#sphx-glr-tutorials-introductory-pyplot-py)\n",
    "[plt.figure();](https://matplotlib.org/tutorials/introductory/pyplot.html#sphx-glr-tutorials-introductory-pyplot-py)\n",
    "</div>"
   ]
  },
  {
   "cell_type": "code",
   "execution_count": null,
   "metadata": {},
   "outputs": [],
   "source": [
    "#Bitte lösen Sie Aufgabe 3 in diesem Feld\n",
    "\n",
    "signal_mp3_spectrum = \n"
   ]
  },
  {
   "cell_type": "code",
   "execution_count": null,
   "metadata": {},
   "outputs": [],
   "source": [
    "#Darstellung im Zeitbereich\n",
    "fig, ax = plt.subplots()\n",
    "ax.set_xlabel('???');\n",
    "ax.set_ylabel('???');\n",
    "rwth_plt.axis(ax);\n",
    "ax.plot(signal_mp3);"
   ]
  },
  {
   "cell_type": "code",
   "execution_count": null,
   "metadata": {},
   "outputs": [],
   "source": [
    "#Darstellung im Frequenzbereich\n",
    "fig, ax = plt.subplots()\n",
    "ax.set_xlabel('???');\n",
    "ax.set_ylabel('???');\n",
    "rwth_plt.axis(ax);\n",
    "ax.plot();"
   ]
  },
  {
   "cell_type": "markdown",
   "metadata": {},
   "source": [
    "---\n",
    "\n",
    "<div class=\"alert alert-block rwth-feedback\">\n",
    "\n",
    "## Feedback\n",
    "\n",
    "Liebe TeilnehmerInnen,\n",
    "\n",
    "wir würden uns freuen, wenn ihr am Ende jeder Aufgabe kurz eure Meinung aufschreibt. Ihr könnt auf die darunter liegende Zelle zugreifen und eure Anmerkungen zu der Aufgabe (oder auch Generelles) reinschreiben.\n",
    "</div>"
   ]
  },
  {
   "cell_type": "markdown",
   "metadata": {
    "validation": true
   },
   "source": [
    "__Was war gut?__\n",
    "* ...\n",
    "* ...\n",
    "\n",
    "__Was war nicht so gut?__\n",
    "* ...\n",
    "* ...\n",
    "\n",
    "__Was ich sonst noch sagen möchte:__\n",
    "* ...\n",
    "* ..."
   ]
  }
 ],
 "metadata": {
  "kernelspec": {
   "display_name": "Python 3",
   "language": "python",
   "name": "python3"
  },
  "language_info": {
   "codemirror_mode": {
    "name": "ipython",
    "version": 3
   },
   "file_extension": ".py",
   "mimetype": "text/x-python",
   "name": "python",
   "nbconvert_exporter": "python",
   "pygments_lexer": "ipython3",
   "version": "3.7.6"
  },
  "toc": {
   "base_numbering": 1,
   "nav_menu": {},
   "number_sections": true,
   "sideBar": true,
   "skip_h1_title": false,
   "title_cell": "Table of Contents",
   "title_sidebar": "Contents",
   "toc_cell": false,
   "toc_position": {},
   "toc_section_display": true,
   "toc_window_display": false
  },
  "varInspector": {
   "cols": {
    "lenName": 16,
    "lenType": 16,
    "lenVar": 40
   },
   "kernels_config": {
    "python": {
     "delete_cmd_postfix": "",
     "delete_cmd_prefix": "del ",
     "library": "var_list.py",
     "varRefreshCmd": "print(var_dic_list())"
    },
    "r": {
     "delete_cmd_postfix": ") ",
     "delete_cmd_prefix": "rm(",
     "library": "var_list.r",
     "varRefreshCmd": "cat(var_dic_list()) "
    }
   },
   "position": {
    "height": "288.85px",
    "left": "2160px",
    "right": "20px",
    "top": "386px",
    "width": "434px"
   },
   "types_to_exclude": [
    "module",
    "function",
    "builtin_function_or_method",
    "instance",
    "_Feature"
   ],
   "window_display": true
  }
 },
 "nbformat": 4,
 "nbformat_minor": 4
}
