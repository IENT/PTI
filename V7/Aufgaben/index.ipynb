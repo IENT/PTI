{
 "cells": [
  {
   "cell_type": "markdown",
   "metadata": {},
   "source": [
    "<div>\n",
    "    <img src=\"http://www.ient.rwth-aachen.de/cms/uploads/images/rwth_ient_logo@2x.png\" style=\"float: right;height: 5em;\">\n",
    "</div>\n",
    "\n",
    "# Praktikumsaufgaben Versuch 7\n",
    "Bitte zeigen Sie Ihrem Betreuer die Ergebnisse der Aufgabenblöcke zur Abnahme vor, bevor Sie den nächsten Block beginnen. Das Praktikum ist in Python programmiert, die wichtigsten Funktionen finden Sie [__hier__](../Vorbereitung/Befehlsreferenzen.ipynb).\n",
    "\n",
    "## Inhaltsverzeichnis\n",
    "\n",
    "* __Vorbereitungsunterlagen:__ [__Vorbereitungsskript__](../Vorbereitung/Vorbereitungsskript.ipynb)\n",
    "\n",
    "\n",
    "* __Aufgabe 1:__ [__Bestimmung der MP3-Grenzfrequenz__](Aufgabe_1_Grenzfrequenz.ipynb)\n",
    "* __Aufgabe 2:__ [__Verdeckung im Frequenzbereich__](Aufgabe_2_Verdeckung_Frequenzbereich.ipynb)\n",
    "* __Aufgabe 3:__ [__Nutzung der Verdeckung im MP3-Encoder__](Aufgabe_3_MP3_Coder_Verdeckung.ipynb)\n",
    "* __Aufgabe 4:__ [__Akustische Analyse der Kodiereffizienz__](Aufgabe_4_Akustische_Analyse_der_Codiereffizienz.ipynb)\n",
    "\n",
    "\n",
    "\n",
    "## Jupyter Quick Start\n",
    "\n",
    "* Zum Ausführen aller Cells eines Notebooks: Im Menü: Run <span class=\"fa fa-long-arrow-right\" aria-hidden=\"true\"></span> Run All\n",
    "* Zum Neustart: <span class=\"fa fa-repeat\" aria-hidden=\"true\"></span> oder im Menü: Kernel <span class=\"fa fa-long-arrow-right\" aria-hidden=\"true\"></span> Restart ...\n",
    "* Zum Ausführen einer einzelnen Cell: __Strg + Enter__ oder <span class=\"fa fa-caret-right\" aria-hidden=\"true\"></span>"
   ]
  }
 ],
 "metadata": {
  "kernelspec": {
   "display_name": "Python 3",
   "language": "python",
   "name": "python3"
  },
  "language_info": {
   "codemirror_mode": {
    "name": "ipython",
    "version": 3
   },
   "file_extension": ".py",
   "mimetype": "text/x-python",
   "name": "python",
   "nbconvert_exporter": "python",
   "pygments_lexer": "ipython3",
   "version": "3.7.6"
  },
  "toc": {
   "base_numbering": 1,
   "nav_menu": {},
   "number_sections": true,
   "sideBar": true,
   "skip_h1_title": false,
   "title_cell": "Table of Contents",
   "title_sidebar": "Contents",
   "toc_cell": false,
   "toc_position": {},
   "toc_section_display": true,
   "toc_window_display": false
  },
  "varInspector": {
   "cols": {
    "lenName": 16,
    "lenType": 16,
    "lenVar": 40
   },
   "kernels_config": {
    "python": {
     "delete_cmd_postfix": "",
     "delete_cmd_prefix": "del ",
     "library": "var_list.py",
     "varRefreshCmd": "print(var_dic_list())"
    },
    "r": {
     "delete_cmd_postfix": ") ",
     "delete_cmd_prefix": "rm(",
     "library": "var_list.r",
     "varRefreshCmd": "cat(var_dic_list()) "
    }
   },
   "types_to_exclude": [
    "module",
    "function",
    "builtin_function_or_method",
    "instance",
    "_Feature"
   ],
   "window_display": true
  }
 },
 "nbformat": 4,
 "nbformat_minor": 4
}
