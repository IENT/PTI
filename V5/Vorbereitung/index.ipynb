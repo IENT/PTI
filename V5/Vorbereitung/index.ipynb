{
 "cells": [
  {
   "cell_type": "markdown",
   "metadata": {},
   "source": [
    "# Preparation Task\n",
    "\n",
    "In order to successfully complete the fifth experiment, some knowledge about signal processing and/in Python is required.\n",
    "\n",
    "The following task should provide some of the basics on correlation functions.\n",
    "\n",
    "---\n",
    "\n",
    "## Plotting the cross-correlation of two signals\n",
    "\n",
    "In this task, the goal is to recreate this plot:\n",
    "\n",
    "![](img/xcorr_example.svg \"Cross-correlation goal\")\n",
    "\n",
    "The plot shows the cross-correlation of two impulse responses.\n",
    "\n",
    "For time discrete functions, the cross-correlation function is given as\n",
    "\n",
    "$$ \\varphi_{fg} = \\sum_{m=-\\infty}^{\\infty}\\overline{f[m]}g[m+n].$$\n",
    "\n",
    "If $f$ has a length of $N$ samples and $g$ has a length of $M$ samples, \n",
    "the sample indices for the correlation function are in the range\n",
    "$[-N+1, M)$.\n",
    "\n",
    "This can be interpreted as a sliding the function $g$ over the function $f$.\n",
    "When the two functions align with each other, the sum of the two is maximized.\n",
    "Thus, with the cross-correlation the similarity between two signals can be measured.\n",
    "\n",
    "Before implementing the code for this plot, read the documentation for the required methods:\n",
    "\n",
    "- [`numpy.arange`](https://numpy.org/doc/stable/reference/generated/numpy.arange.html)\n",
    "- [`scipy.signal.unit_impulse`](https://docs.scipy.org/doc/scipy/reference/generated/scipy.signal.unit_impulse.html)\n",
    "- [`scipy.signal.correlate`](https://docs.scipy.org/doc/scipy/reference/generated/scipy.signal.correlate.html)\n",
    "\n",
    "Additionally, [experiment 7](../../V7/Vorbereitung/index.ipynb) provides an introduction for signal processing in Python.\n",
    "In case you did not yet complete experiment 7, consider reading their introduction as well.\n",
    "\n",
    "### 1. Generating the signals\n",
    "\n",
    "First generate the two input signals.\n",
    "The first one is a simple dirac impulse.\n",
    "The second signal is a superposition of two sample shifted dirac impulses with different amplitudes."
   ]
  },
  {
   "cell_type": "code",
   "execution_count": null,
   "metadata": {},
   "outputs": [],
   "source": [
    "# import modules\n",
    "%matplotlib inline\n",
    "%config InlineBackend.figure_format = 'svg'\n",
    "import numpy as np\n",
    "from scipy import signal\n",
    "import matplotlib.pyplot as plt\n",
    "from matplotlib import ticker\n",
    "\n",
    "# definitions\n",
    "num_samples = 20\n",
    "\n",
    "###### ! Solution begins here ! ######\n",
    "\n",
    "# numpy vector with sample number for the signals, starting from 0\n",
    "sample_vector = \n",
    "\n",
    "# generate the two impulses\n",
    "signal_1 = \n",
    "signal_2 = \n",
    "\n",
    "###### ! Solution ends here ! ######\n",
    "\n",
    "# plot the signals\n",
    "fig, ax = plt.subplots(1, 1, figsize=(15, 8))\n",
    "ax.axhline(0, color='grey')\n",
    "ax.grid(True)\n",
    "ax.plot(sample_vector, signal_1, 'o-', label='Signal 1')\n",
    "ax.plot(sample_vector, signal_2, 'o-', label='Signal 2')\n",
    "ax.xaxis.set_major_locator(ticker.MultipleLocator(2))\n",
    "ax.set_ylim([-1.1,1.1])\n",
    "ax.legend()\n",
    "ax.set_xlabel('Sample')\n",
    "ax.set_ylabel('Amplitude')\n",
    "ax.set_title('Input signals')"
   ]
  },
  {
   "cell_type": "markdown",
   "metadata": {},
   "source": [
    "### 2. Calculate cross-correlation\n",
    "\n",
    "Next, calculate the correlation of the two signals and the corresponding sample lags."
   ]
  },
  {
   "cell_type": "code",
   "execution_count": null,
   "metadata": {},
   "outputs": [],
   "source": [
    "###### ! Solution begins here ! ######\n",
    "\n",
    "correlation = \n",
    "lags = \n",
    "\n",
    "###### ! Solution ends here ! ######\n",
    "\n",
    "# plot the correlation\n",
    "fig, ax = plt.subplots(2, 1, figsize=(16, 16))\n",
    "\n",
    "ax[0].axhline(0, color='grey')\n",
    "ax[0].plot(sample_vector, signal_1, 'o-', label='Signal 1')\n",
    "ax[0].plot(sample_vector, signal_2, 'o-', label='Signal 2')\n",
    "ax[0].xaxis.set_major_locator(ticker.MultipleLocator(2))\n",
    "ax[0].set_ylim([-1.1,1.1])\n",
    "ax[0].legend()\n",
    "ax[0].set_xlabel('Sample')\n",
    "ax[0].set_ylabel('Amplitude')\n",
    "ax[0].set_title('Input signals')\n",
    "\n",
    "ax[1].grid()\n",
    "ax[1].plot(lags,np.abs(correlation), 'o-', label='Correlation')\n",
    "ax[1].xaxis.set_major_locator(ticker.MultipleLocator(2))\n",
    "ax[1].set_xlabel('Sample')\n",
    "ax[1].set_ylabel('Amplitude')\n",
    "ax[1].set_title('Cross-correlation of Signal 1 and Signal 2')"
   ]
  },
  {
   "cell_type": "markdown",
   "metadata": {},
   "source": [
    "Compare the sample shift of `signal_2` with the cross-correlation plot.\n",
    "Note down your observations."
   ]
  },
  {
   "cell_type": "code",
   "execution_count": null,
   "metadata": {},
   "outputs": [],
   "source": [
    "# Write down your answer here:\n",
    "\n",
    "# ..."
   ]
  }
 ],
 "metadata": {
  "kernelspec": {
   "display_name": "Python 3.10.8 64-bit",
   "language": "python",
   "name": "python3"
  },
  "language_info": {
   "codemirror_mode": {
    "name": "ipython",
    "version": 3
   },
   "file_extension": ".py",
   "mimetype": "text/x-python",
   "name": "python",
   "nbconvert_exporter": "python",
   "pygments_lexer": "ipython3",
   "version": "3.10.8"
  },
  "orig_nbformat": 4,
  "vscode": {
   "interpreter": {
    "hash": "b0fa6594d8f4cbf19f97940f81e996739fb7646882a419484c72d19e05852a7e"
   }
  }
 },
 "nbformat": 4,
 "nbformat_minor": 2
}
