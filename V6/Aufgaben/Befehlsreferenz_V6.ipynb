{
 "cells": [
  {
   "cell_type": "markdown",
   "metadata": {},
   "source": [
    "<div>\n",
    "    <img src=\"http://www.ient.rwth-aachen.de/cms/uploads/images/rwth_ient_logo@2x.png\" style=\"float: right;height: 5em;\">\n",
    "</div>"
   ]
  },
  {
   "cell_type": "markdown",
   "metadata": {},
   "source": [
    "# Befehlsreferenz"
   ]
  },
  {
   "cell_type": "markdown",
   "metadata": {},
   "source": [
    "## Allgemeines\n",
    "\n",
    "__[~](https://stackoverflow.com/questions/8305199/the-tilde-operator-in-python)__: Pythons \"Nicht\"-Operator\n",
    "\n",
    "## Numpy-Arrays\n",
    "\n",
    "__[np.astype()](https://numpy.org/doc/stable/reference/generated/numpy.ndarray.astype.html)__: Ändert den Datentyp der Einträge eines Numpy-Arrays.\n",
    "\n",
    "__[np.ravel()](https://numpy.org/doc/stable/reference/generated/numpy.ravel.html)__: Reiht alle Einträge eines n-dimensionales Array in einen Vektor (1D-Array) auf.\n",
    "\n",
    "__[np.sum()](https://numpy.org/doc/stable/reference/generated/numpy.sum.html)__: Summiert die Elemente eines Arrays entlang einer Achse.\n",
    "\n",
    "__[np.zeros()](https://numpy.org/doc/stable/reference/generated/numpy.zeros.html)__: Erstellt ein Numpy-Array indem alle Einträge 0 sind. Beispiel: *array = np.zeros((2,3))* erzeugt ein Array der Dimension $2\\times 3$."
   ]
  },
  {
   "cell_type": "markdown",
   "metadata": {},
   "source": [
    "## Bildverarbeitung\n",
    "\n",
    "__[binary_erosion()](https://scikit-image.org/docs/dev/api/skimage.morphology.html#skimage.morphology.binary_erosion)__: Führt eine Erosion auf einem Binärbild aus.\n",
    "\n",
    "__[binary_dilation()](https://scikit-image.org/docs/dev/api/skimage.morphology.html#skimage.morphology.binary_dilation)__: Führt eine Dilatation auf einem Binärbild aus.\n",
    "\n",
    "__[binary_fill_holes()](https://scikit-image.org/docs/dev/api/skimage.color.html#skimage.color.rgb2gray)__: Schließt Löcher in einem Binärbild.\n",
    "\n",
    "__[disk()](https://scikit-image.org/docs/dev/api/skimage.morphology.html#skimage.morphology.disk)__: Erstellt ein Strukturelement der Form 'Kreis'\n",
    "\n",
    "__[label()](https://scikit-image.org/docs/stable/api/skimage.measure.html#skimage.measure.label)__:  Findet zusammenhängende Gebiete in einem übergebenen Binärbild und nummeriert diese durch.\n",
    "\n",
    "__[regionprops()](https://scikit-image.org/docs/dev/api/skimage.measure.html#skimage.measure.regionprops)__: Berechnet die charakteristischen Eigenschaften von Objekten in einem Labelbild. Zu diesen Eigenschaften gehören unter anderem die Boundingboxen und die Zentralmomente. Das Ergebnis wird als Struct übergeben. Beispiel: Um auf den Schwerpunkt der Region *i* in einem Ergebnissstruckt *regions* zuzugreifen kann *regions[i].centroid* verwendet werden.\n",
    "\n",
    "__[rgb2gray()](https://scikit-image.org/docs/dev/api/skimage.color.html#skimage.color.rgb2gray)__: Errechnet die Helligkeit jedes Pixels aus einem RGB-Bildern.\n",
    "\n",
    "__[square()](https://scikit-image.org/docs/dev/api/skimage.morphology.html#skimage.morphology.square)__: Erstellt ein Strukturelement der Form 'Quadrat'.\n",
    " \n",
    "__[threshold_otsu()](https://scikit-image.org/docs/dev/api/skimage.filters.html#skimage.filters.threshold_otsu)__: Berechnet die Binarisierungsgrenze eines Graustufenbildes nach der Methode von Otsu.\n",
    "\n",
    "\n",
    "\n",
    "\n",
    "\n"
   ]
  },
  {
   "cell_type": "markdown",
   "metadata": {},
   "source": [
    "## Darstellung von Graphen, Plots, Bildern:\n",
    "\n",
    "__[imread()](https://scikit-image.org/docs/dev/api/skimage.io.html)__: Liest ein Bild von einem gegebenen Pfad ein\n",
    "\n",
    "__[imshow()](https://matplotlib.org/3.1.1/api/_as_gen/matplotlib.pyplot.imshow.html)__: Zeigt das übergebene Bild an\n",
    "\n",
    "__[axis.hist()](https://matplotlib.org/api/_as_gen/matplotlib.axes.Axes.hist.html)__: Berechnet und plottet das Histogramm eines Bildes in ein gegebenes Koordinatensystem *axis*, bspw. *ax.hist()*\n"
   ]
  },
  {
   "cell_type": "code",
   "execution_count": null,
   "metadata": {},
   "outputs": [],
   "source": []
  }
 ],
 "metadata": {
  "kernelspec": {
   "display_name": "Python 3",
   "language": "python",
   "name": "python3"
  },
  "language_info": {
   "codemirror_mode": {
    "name": "ipython",
    "version": 3
   },
   "file_extension": ".py",
   "mimetype": "text/x-python",
   "name": "python",
   "nbconvert_exporter": "python",
   "pygments_lexer": "ipython3",
   "version": "3.7.6"
  }
 },
 "nbformat": 4,
 "nbformat_minor": 4
}
