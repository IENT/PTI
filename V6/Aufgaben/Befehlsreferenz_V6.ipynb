{
 "cells": [
  {
   "cell_type": "markdown",
   "metadata": {},
   "source": [
    "<div>\n",
    "    <img src=\"http://www.ient.rwth-aachen.de/cms/uploads/images/rwth_ient_logo@2x.png\" style=\"float: right;height: 5em;\">\n",
    "</div>"
   ]
  },
  {
   "cell_type": "markdown",
   "metadata": {},
   "source": [
    "# Befehlsreferenz"
   ]
  },
  {
   "cell_type": "markdown",
   "metadata": {},
   "source": [
    "## Darstellung von Graphen, Plots, Bildern:\n",
    "<a href = \"https://scikit-image.org/docs/dev/api/skimage.io.html\">imread()</a>: Liest ein Bild von einem gegebenen Pfad ein.\n",
    "\n",
    "<a href = \"https://matplotlib.org/3.1.1/api/_as_gen/matplotlib.pyplot.imshow.html\">imshow()</a>: Zeigt das übergebene Bild an."
   ]
  },
  {
   "cell_type": "markdown",
   "metadata": {},
   "source": [
    "<a href = \"ient_show_doc.ipynb\">ient_show(image, plot_title)</a>: Zeigt ein oder mehrere übergebene Bilder oder Plots an mit einer Plotüberschrift.\n",
    "\n",
    "<a href = \"ient_show_doc.ipynb\">ient_show_2(image_1, image_2, subtitle_1, subtitle_2)</a>: Zeigt zwei Bilder oder Plots mit eigenständgen Bildüberschriften an."
   ]
  },
  {
   "cell_type": "markdown",
   "metadata": {},
   "source": [
    "\n",
    "<a href = \"https://matplotlib.org/3.1.1/api/_as_gen/matplotlib.patches.Rectangle.html\">patches.Rectangle()</a>: Fügt einem Plot ein Rechteck hinzu. Beachten Sie, dass erst ein patch hinzugefügt werden muss, bevor es gezeichnet werden kann.\n",
    "\n",
    "<a href = \"https://matplotlib.org/3.1.1/api/_as_gen/matplotlib.patches.Circle.html\">mpatches.Circle()</a>: Fügt einem Plot einen Kreis hinzu."
   ]
  },
  {
   "cell_type": "markdown",
   "metadata": {},
   "source": [
    "## Bildverarbeitung\n",
    "<a href = \"https://scikit-image.org/docs/dev/api/skimage.morphology.html#skimage.morphology.binary_erosion\">binary_erosion()</a>: Führt eine binäre Erosion auf dem übergebenem Bild durch.\n",
    "\n",
    "<a href = \"https://scikit-image.org/docs/dev/api/skimage.morphology.html#skimage.morphology.binary_dilation\">binary_dilation()</a>: Führt eine binäre Dilatation auf dem übergebenem Bild durch.\n",
    "\n",
    "<a href = \"https://docs.scipy.org/doc/scipy-0.16.0/reference/generated/scipy.ndimage.morphology.binary_fill_holes.html\">binary_fill_holes()</a>: Eine binäre Operation, die die Löcher des übergebenen Bildes schließt.\n",
    "\n",
    "<a href = \"https://scikit-image.org/docs/dev/api/skimage.filters.html#skimage.filters.threshold_otsu\">threshold_otsu()</a>: Berechent die Binarisierungsgrenze nach der Methode von Otsu.\n",
    "\n",
    "<a href = \"https://matplotlib.org/3.1.1/api/_as_gen/matplotlib.pyplot.hist.html\" target=\"_blank\">hist()</a>: Zeichnet das Histogramm eines Bildes.\n",
    "\n",
    "<a href = \"https://docs.scipy.org/doc/numpy/reference/generated/numpy.ravel.html\" target=\"_blank\">ravel()</a>: Formt ein n-dimensionales Array in ein 1D-Array um.\n",
    "\n",
    "<a href = \"https://scikit-image.org/docs/dev/api/skimage.morphology.html#skimage.morphology.square\">square()</a>: Erstellt ein Strukturelement der Form 'Rechteck'.\n",
    "\n",
    "<a href = \"https://scikit-image.org/docs/dev/api/skimage.measure.html#skimage.measure.regionprops\">regionprops()</a>: Berechne die charakteristischen Eigenschaften des übergebenen Bildes.\n",
    "\n",
    "<a href = \"https://scikit-image.org/docs/dev/api/skimage.measure.html#skimage.measure.regionprops\">label()</a>: Errechnet zusammenhängende Gebiete eines übergebenen Bildes und nummeriert diese durch."
   ]
  },
  {
   "cell_type": "markdown",
   "metadata": {},
   "source": [
    "## Ctypes: <a href = \"https://docs.python.org/3/library/ctypes.html#\">ctypes-module</a>\n",
    "\n",
    "<a href = \"https://kite.com/python/docs/numpy.ctypeslib.ndpointer\">ndpointer()</a>: Erstellt einen Numpy-Pointer zu einem Numpy-Objekt.\n",
    "\n",
    "<a href = \"https://docs.python.org/3/library/ctypes.html#pointers\">pointer()</a>: Erstellt ein Objekt vom Typ Pointer. \n",
    "\n",
    "<a href = \"https://docs.python.org/3/library/ctypes.html#pointer\">POINTER()</a>: Erstellt einen Typ Pointer.\n",
    "\n",
    "<a href = \"https://docs.python.org/3/library/ctypes.html#passing-pointers-or-passing-parameters-by-reference\">byref()</a>: Erstellt implizit ein Objekt vom Typ Pointer, ohne auf diesen zugreifen zu können."
   ]
  }
 ],
 "metadata": {
  "kernelspec": {
   "display_name": "Python 3",
   "language": "python",
   "name": "python3"
  },
  "language_info": {
   "codemirror_mode": {
    "name": "ipython",
    "version": 3
   },
   "file_extension": ".py",
   "mimetype": "text/x-python",
   "name": "python",
   "nbconvert_exporter": "python",
   "pygments_lexer": "ipython3",
   "version": "3.7.6"
  }
 },
 "nbformat": 4,
 "nbformat_minor": 4
}
