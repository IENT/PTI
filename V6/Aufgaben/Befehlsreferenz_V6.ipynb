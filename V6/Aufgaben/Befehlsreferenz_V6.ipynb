{
 "cells": [
  {
   "cell_type": "markdown",
   "metadata": {},
   "source": [
    "<div>\n",
    "    <img src=\"http://www.ient.rwth-aachen.de/cms/uploads/images/rwth_ient_logo@2x.png\" style=\"float: right;height: 5em;\">\n",
    "</div>"
   ]
  },
  {
   "cell_type": "markdown",
   "metadata": {},
   "source": [
    "# Befehlsreferenz"
   ]
  },
  {
   "cell_type": "markdown",
   "metadata": {},
   "source": [
    "## Allgemeines\n",
    "\n",
    "__[~](https://stackoverflow.com/questions/8305199/the-tilde-operator-in-python)__: Bildet das Komplement/Invertierte bspw. eines Bildes\n",
    "\n",
    "__[np.astype()](https://numpy.org/doc/stable/reference/generated/numpy.ndarray.astype.html)__: Castet ein Numpy-Array in beliebige Datentypen\n",
    "\n",
    "__[np.array()](https://numpy.org/doc/stable/reference/generated/numpy.array.html)__: Erstellt ein numpy-Array\n",
    "\n",
    "__[np.zeros()](https://numpy.org/doc/stable/reference/generated/numpy.zeros.html)__: Erstellt ein numpy-Array gefüllt mit 0-Einträgen. Um bspw. ein Array der Dimension $2\\times 3$ zu erstellen und mit 0en zu füllen: *array = np.zeros((2,3))*\n",
    "\n",
    "__[np.sum()](https://www.w3resource.com/pandas/series/series-astype.php)__: Summiert über definierte Axen eines Arrays, ohne Spezifizierung werden alle Elemente des Arrays summiert"
   ]
  },
  {
   "cell_type": "markdown",
   "metadata": {},
   "source": [
    "## Bildverarbeitung\n",
    "\n",
    "__[binary_erosion()](https://scikit-image.org/docs/dev/api/skimage.morphology.html#skimage.morphology.binary_erosion)__: Führt eine binäre Erosion auf dem übergebenem Bild durch\n",
    "\n",
    "__[binary_dilation()](https://scikit-image.org/docs/dev/api/skimage.morphology.html#skimage.morphology.binary_dilation)__: Führt eine binäre Dilatation auf dem übergebenem Bild durch\n",
    "\n",
    "__[binary_fill_holes()](https://scikit-image.org/docs/dev/api/skimage.color.html#skimage.color.rgb2gray)__: Eine binäre Operation, welche die Löcher des übergebenen Bildes schließt\n",
    " \n",
    "__[threshold_otsu()](https://scikit-image.org/docs/dev/api/skimage.filters.html#skimage.filters.threshold_otsu)__: Berechent die Binarisierungsgrenze nach der Methode von Otsu\n",
    "\n",
    "__[axis.hist()](https://matplotlib.org/api/_as_gen/matplotlib.axes.Axes.hist.html)__: Berechnet und plottet das Histogramm eines Bildes in ein gegebenes Koordinatensystem *axis*, bspw. *ax.hist()*\n",
    "\n",
    "__[ravel()](https://docs.scipy.org/doc/numpy/reference/generated/numpy.ravel.html)__: Formt ein n-dimensionales Array in ein 1D-Array um\n",
    "\n",
    "__[square()](https://scikit-image.org/docs/dev/api/skimage.morphology.html#skimage.morphology.square)__: Erstellt ein Strukturelement der Form 'Quadrat'\n",
    "\n",
    "__[disk()](https://scikit-image.org/docs/dev/api/skimage.morphology.html#skimage.morphology.disk)__: Erstellt ein Strukturelement der Form 'Kreis'\n",
    "\n",
    "__[regionprops()](https://scikit-image.org/docs/dev/api/skimage.measure.html#skimage.measure.regionprops)__: Berechne die charakteristischen Eigenschaften des übergebenen Bildes, bspw. Auf Eigenschaften einer erkannten Region *i* in Regionprops können Sie via *regions[i].attribute* zugreifen\n",
    "\n",
    "\n",
    "__[label()](https://scikit-image.org/docs/stable/api/skimage.measure.html#skimage.measure.label)__:  Errechnet zusammenhängende Gebiete eines übergebenen Bildes und nummeriert diese durch\n",
    "\n",
    "__[rgb2gray()](https://scikit-image.org/docs/dev/api/skimage.color.html#skimage.color.rgb2gray)__: Errechnet die Luminanz-Komponente von RGB-Bildern"
   ]
  },
  {
   "cell_type": "markdown",
   "metadata": {},
   "source": [
    "## Darstellung von Graphen, Plots, Bildern:\n",
    "\n",
    "__[imread()](https://scikit-image.org/docs/dev/api/skimage.io.html)__: Liest ein Bild von einem gegebenen Pfad ein\n",
    "\n",
    "__[imshow()](https://matplotlib.org/3.1.1/api/_as_gen/matplotlib.pyplot.imshow.html)__: Zeigt das übergebene Bild an\n",
    "\n",
    "__[mpatches.Rectangle()](https://matplotlib.org/3.1.1/api/_as_gen/matplotlib.patches.Rectangle.html)__:  Erstellt einen Patch in Form eines Rechtecks\n",
    "\n",
    "__[mpatches.Circle()](https://matplotlib.org/3.1.1/api/_as_gen/matplotlib.patches.Circle.html)__: Erstellt einen Patch in Form eines Kreises\n",
    "\n",
    "__[axis.add_patch()](https://matplotlib.org/3.1.1/api/_as_gen/matplotlib.axes.Axes.add_patch.html)__: Fügt Patches einem Plot/Axis hinzu\n",
    "\n",
    "__[rwth_plt()](https://git.rwth-aachen.de/jupyter/rwth-nb/-/blob/master/RWTH%20Plots.ipynb)__: Erweitere Plots um den RWTH-Style"
   ]
  }
 ],
 "metadata": {
  "kernelspec": {
   "display_name": "Python 3",
   "language": "python",
   "name": "python3"
  },
  "language_info": {
   "codemirror_mode": {
    "name": "ipython",
    "version": 3
   },
   "file_extension": ".py",
   "mimetype": "text/x-python",
   "name": "python",
   "nbconvert_exporter": "python",
   "pygments_lexer": "ipython3",
   "version": "3.7.6"
  }
 },
 "nbformat": 4,
 "nbformat_minor": 4
}
