{
 "cells": [
  {
   "cell_type": "markdown",
   "metadata": {},
   "source": [
    "<div>\n",
    "    <img src=\"https://www.ient.rwth-aachen.de/cms/uploads/images/rwth_ient_logo@2x.png\" style=\"float: right;height: 5em;\">\n",
    "</div>"
   ]
  },
  {
   "cell_type": "code",
   "execution_count": null,
   "metadata": {
    "jupyter": {
     "source_hidden": true
    }
   },
   "outputs": [],
   "source": [
    "# Copyright 2019 Institut für Nachrichtentechnik, RWTH Aachen University\n",
    "\n",
    "# Default Imports\n",
    "import sys\n",
    "import os\n",
    "import numpy as np\n",
    "\n",
    "# Path inserts\n",
    "sys.path.insert(0,'./Bilder')\n",
    "sys.path.insert(0,'../ient_python')\n",
    "\n",
    "# Imports for Widgets\n",
    "%matplotlib widget\n",
    "import ipywidgets as widgets\n",
    "from ipywidgets import interact\n",
    "\n",
    "# Imports for combining languages\n",
    "import ctypes\n",
    "from cython import *\n",
    "from ctypes import *\n",
    "from ctypes import cdll\n",
    "from numpy.ctypeslib import ndpointer\n",
    "from numpy.ctypeslib import as_array\n",
    "\n",
    "# Imports for image processing and displaying\n",
    "from skimage.morphology import label\n",
    "from skimage.io import imread\n",
    "from skimage.color import rgb2gray\n",
    "import matplotlib.pyplot as plt\n",
    "from matplotlib_inline.backend_inline import set_matplotlib_formats\n",
    "set_matplotlib_formats('pdf', 'png')\n",
    "from skimage.filters import threshold_otsu\n",
    "from skimage.segmentation import clear_border\n",
    "from skimage.morphology import closing, square\n",
    "from skimage.util import img_as_int\n",
    "from skimage.measure import regionprops, centroid, moments_central, moments_coords_central\n",
    "from skimage.draw import circle_perimeter\n",
    "from matplotlib.pyplot import imshow\n",
    "import matplotlib.image\n",
    "from IPython.display import *\n",
    "import matplotlib.patches as mpatches\n",
    "\n",
    "# Remove .so file if exists\n",
    "if os.path.exists('mass_calculation.so'):\n",
    "    os.remove('mass_calculation.so')\n",
    "\n",
    "# Suppress warning\n",
    "import warnings\n",
    "warnings.simplefilter(action='ignore', category=FutureWarning)\n",
    "\n",
    "# Suppress figure warning\n",
    "plt.close('all')\n",
    "plt.rcParams.update({'figure.max_open_warning': 0})"
   ]
  },
  {
   "cell_type": "markdown",
   "metadata": {},
   "source": [
    "## Teil 2: Erweiterte Merkmalsbestimmung und Python-C++ Kombination\n",
    "In diesem Teil des Versuchs geht es um zwei Dinge:\n",
    " - Eine weitere Art an Beschreibungsmöglichkeiten von Objekten in Bildern kennenzulernen\n",
    " - Die Möglichkeit verschiedene Programmiersprachen zu kombinieren\n",
    "\n",
    "Für nähere Informationen bezüglich der verwendeten Funktionen, schauen Sie hier:\n",
    "\n",
    "__[Befehlsreferenz](Befehlsreferenz_V6.ipynb)__\n",
    "\n",
    "Eine weitere Erklärung zur Schnittstellenprogrammierung und zu Momenten finden Sie in nachfolgendem Video."
   ]
  },
  {
   "cell_type": "code",
   "execution_count": null,
   "metadata": {
    "jupyter": {
     "source_hidden": true
    }
   },
   "outputs": [],
   "source": [
    "from IPython.display import Video\n",
    "Video(\"https://www.ient.rwth-aachen.de/cms/uploads/public/video/PTI-Videos/V6_T2_v3.mp4\", width=480, height=270 )"
   ]
  },
  {
   "cell_type": "markdown",
   "metadata": {},
   "source": [
    "<div class=\"alert rwth-topic\"> \n",
    "    \n",
    "## Aufgabe 1 - Ermittlung des Massenschwerpunktes \n",
    "Ermitteln Sie zunächst den Massenschwerpunkt, um die geometrische Lage der Objekte im Bild zu charakterisieren.\n",
    "    \n",
    "</div>"
   ]
  },
  {
   "cell_type": "markdown",
   "metadata": {},
   "source": [
    "<div class=\"alert rwth-subtopic\">\n",
    "    \n",
    "### Aufgabe 1.1: C-Programm erstellen \n",
    "Bevor Sie weiter in Jupyter Notebook arbeiten, öffnen Sie bitte die Datei *mass_calculation.c* und vervollständigen dort die Funktion zur Berechnung des Massenschwerpunktes von Objekten in Bildern. Nutzen Sie die Pseudocode-Version aus den Vorbereitungsaufgaben zur Hilfe.\n",
    "    \n",
    "Wenn Sie glauben, dass ihr Programm funktioniert, führen sie den nächsten Block aus. Dieser kompiliert Ihre C-Datei. Bei Fehlermeldungen überprüfen Sie ihr Programm erneut, bis keine Fehler mehr auftreten.  Die Ausgabe der Zelle beinhaltet dann nur noch '[ ]'     \n",
    "</div>"
   ]
  },
  {
   "cell_type": "code",
   "execution_count": null,
   "metadata": {
    "deletable": false,
    "editable": false
   },
   "outputs": [],
   "source": [
    "#compile the c-file via gcc-compiler into an shared object(.so file) with fPIC gcc-option in order to have relative adresses\n",
    "!!gcc -shared -Wl,-soname,mass_calculation \\\n",
    "    -o mass_calculation.so \\\n",
    "    -fPIC mass_calculation.c"
   ]
  },
  {
   "cell_type": "markdown",
   "metadata": {
    "deletable": false
   },
   "source": [
    "<div class=\"alert rwth-subtopic\">\n",
    "    \n",
    "### Funktion verwenden\n",
    "Glückwunsch, jetzt kann Ihre Funktion verwendet werden. Es soll nun noch kontrolliert werden, ob die errechneten Ergebnisse richtig sind. Dazu werden im folgenden auch die Massenschwerpunkte durch eine vorimplementierte Pythonfunktion berechnet und mit den Ergebnissen Ihrer Funktion verglichen.\n",
    "Sollten die Ergebniss nicht übereinstimmen, müssen Sie ihre Funktion nocheinmal überarbeiten.\n",
    "    \n",
    "Die nachfolgende Zelle ruft Ihre Funktion auf und zeigt Ihnen eine grafische Veranschaulichung Ihrer Ergebnisse und der Ergebnisse durch die vorimplementierte Funktion.\n",
    "\n",
    "</div>  "
   ]
  },
  {
   "cell_type": "code",
   "execution_count": null,
   "metadata": {
    "deletable": false,
    "jupyter": {
     "source_hidden": true
    }
   },
   "outputs": [],
   "source": [
    "# Pointer definieren, der die Adresse vom Typ intpointer (adress) speichert\n",
    "doublepp = ndpointer(dtype=np.intp) \n",
    "\n",
    "# Das im obigen Block erstellte .so File mittles ctypes Befehl cddll\n",
    "#Load the created .so-file via ctypes into python-variable (and create a .py-file)\n",
    "dll = cdll.LoadLibrary('./mass_calculation.so')\n",
    "\n",
    "#rename function for easy use and access\n",
    "center = dll.center\n",
    "central = dll.central\n",
    "\n",
    "###define interface\n",
    "center.restype = None\n",
    "center.argtypes = [doublepp,c_int ,doublepp]\n",
    "\n",
    "central.restype = None\n",
    "central.argtypes = [doublepp, c_int, doublepp, doublepp, c_int, c_int]\n",
    "\n",
    "#Bild für spätere Übergabe vorbereiten (Laden, Graustufenbild, Binarisieren, invertieren, Labeln)\n",
    "img_gray = imread('Bilder/Buchstaben_Teil2.bmp')\n",
    "img_bin = img_gray > threshold_otsu(img_gray)\n",
    "img_inv = ~img_bin\n",
    "img_labeled = label(img_inv)\n",
    "\n",
    "# labeled image as double for pointer-pointer\n",
    "img_labeled_db = img_labeled.astype(np.double)\n",
    "\n",
    "# Vektor, in welchen die Funktion die Ergebnisse schreibt\n",
    "results = np.zeros((14), dtype = 'double')\n",
    "\n",
    "#2 Pointer-Pointer-Arrays als Hilfsmittel \n",
    "res_tmp = (results.__array_interface__['data'][0]+np.arange(results.shape[0])*results.strides[0])\n",
    "img_labeled_pp = (img_labeled_db.__array_interface__['data'][0]+np.arange(img_labeled_db.shape[0])*img_labeled_db.strides[0])\n",
    "\n",
    "\n",
    "# Ausgabe der wichtigsten Eigenschaften der Matrix, zur Übergabe an die Funktion\n",
    "_,labels_num = label(img_inv, return_num=True)\n",
    "_, dimm = img_labeled.shape\n",
    "dimn,_ = img_labeled.shape\n",
    "# Aufruf Ihrer eigenen Funktion\n",
    "center(img_labeled_pp, labels_num, res_tmp)\n",
    "\n",
    "# Gebietseigenschaften berechnen\n",
    "regions = regionprops(img_labeled)\n",
    "\n",
    "# Schwerpunkte jedes Gebiets berechnen und speichern\n",
    "sk_centers = np.zeros((7,2))\n",
    "for i in range(7): # da 7 Gebiete wie oben angegeben\n",
    "    sk_centers[i,0], sk_centers[i,1] = regions[i].centroid # Koordinaten des Schwerpunkts in Form: (Zeile, Spalte)\n",
    "    \n",
    "    \n",
    "    \n",
    "#Arrangiere Ergebnisse neu für schönere Ausgabe \n",
    "coord = results.reshape((7, 2))\n",
    "coord_tmp = np.array_str(coord)\n",
    "coord_head = \"  Selbst errechnete Lösung: \\n\" + coord_tmp \n",
    "\n",
    "sk_coords = sk_centers.reshape((7, 2))\n",
    "sk_coord_tmp = np.array_str(sk_coords)\n",
    "sk_coord_head = \" Von Skimage errechnete Lösung: \\n\" + sk_coord_tmp \n",
    "\n",
    "\n",
    "# Visualisierung der Ergebnisse\n",
    "def circles(sk_centers, coord):\n",
    "    img_labeled_cp = np.copy(img_labeled)  \n",
    "    img_labeled_cp_cp = np.copy(img_labeled)\n",
    "\n",
    "    # Hier kommt Ihre Lösung zu Unterpunkt 1.5:\n",
    "    fig, ax = plt.subplots(1, 2, figsize=(12, 8))\n",
    "    ax[0].imshow(img_labeled_cp, cmap= 'gray');\n",
    "    ax[0].set_title('Visualisierte Schwerpunkte Skimage:')\n",
    "    ax[1].imshow(img_labeled_cp_cp, cmap= 'gray');\n",
    "    ax[1].set_title('Visualisierte Schwerpunkte eigener Code:')\n",
    "    ax[0].axis('off')\n",
    "    ax[1].axis('off')\n",
    "\n",
    "    for i in range(7):\n",
    "        circle = mpatches.Circle((int(sk_centers[i][1]),int(sk_centers[i][0])) ,radius = 5)\n",
    "        circle.set_color('red')\n",
    "        ax[0].add_patch(circle)\n",
    "\n",
    "    for i in range(7):\n",
    "        circle = mpatches.Circle((int(coord[i][1]),int(coord[i][0])) ,radius = 5)\n",
    "        ax[1].add_patch(circle)\n",
    "\n",
    "    plt.show()\n",
    "    \n",
    "circles(sk_centers, coord)\n",
    "\n",
    "# Ausgabe der Ergebnisse\n",
    "print(coord_head,'\\n\\n', sk_coord_head)"
   ]
  },
  {
   "cell_type": "markdown",
   "metadata": {},
   "source": [
    "# >>Weiter zu  [__Teil 3__](Teil_3.ipynb)"
   ]
  }
 ],
 "metadata": {
  "kernelspec": {
   "display_name": "vmc",
   "language": "python",
   "name": "python3"
  },
  "language_info": {
   "codemirror_mode": {
    "name": "ipython",
    "version": 3
   },
   "file_extension": ".py",
   "mimetype": "text/x-python",
   "name": "python",
   "nbconvert_exporter": "python",
   "pygments_lexer": "ipython3",
   "version": "3.9.12"
  }
 },
 "nbformat": 4,
 "nbformat_minor": 4
}
