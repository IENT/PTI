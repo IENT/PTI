{
 "cells": [
  {
   "cell_type": "markdown",
   "metadata": {},
   "source": [
    "<div>\n",
    "    <img src=\"http://www.ient.rwth-aachen.de/cms/uploads/images/rwth_ient_logo@2x.png\" style=\"float: right;height: 5em;\">\n",
    "</div>"
   ]
  },
  {
   "cell_type": "code",
   "execution_count": null,
   "metadata": {
    "deletable": false,
    "jupyter": {
     "source_hidden": true
    }
   },
   "outputs": [],
   "source": [
    "# Copyright 2019 Institut für Nachrichtentechnik, RWTH Aachen University\n",
    "\n",
    "#Numpy,Sys, Matplotlib Imports, display widgets correctly \n",
    "import sys\n",
    "sys.path.insert(0,'./Bilder')\n",
    "sys.path.insert(0,'./Funktionen')\n",
    "\n",
    "%matplotlib widget\n",
    "import numpy as np\n",
    "import math\n",
    "import matplotlib.pyplot as plt\n",
    "import matplotlib.patches as mpatches\n",
    "from matplotlib.pyplot import figure, draw, pause\n",
    "from matplotlib.widgets import RectangleSelector\n",
    "\n",
    "#iPython Imports\n",
    "from ipywidgets import widgets,interact\n",
    "import IPython.display as ip\n",
    "from IPython.display import set_matplotlib_formats\n",
    "set_matplotlib_formats('pdf', 'png')\n",
    "\n",
    "#RWTH imports\n",
    "import rwth_nb.plots.mpl_decorations as rwth_plt\n",
    "\n",
    "#Scikit-Image, cv2 Imports\n",
    "from skimage.filters import threshold_otsu\n",
    "from skimage.morphology import label, square,binary_erosion, binary_dilation\n",
    "from skimage.measure import regionprops\n",
    "from skimage.draw import rectangle_perimeter\n",
    "from skimage.io import imread, imshow\n",
    "from skimage.color import rgb2gray\n",
    "from skimage.transform import resize, rotate, rescale\n",
    "from scipy.ndimage import binary_fill_holes\n",
    "from cv2 import warpAffine, getRotationMatrix2D\n",
    "\n",
    "# rwth_nb feedback\n",
    "from rwth_nb.misc.feedback import rwth_feedback\n",
    "\n",
    "# Suppress warning\n",
    "import warnings\n",
    "warnings.simplefilter(action='ignore', category=FutureWarning)"
   ]
  },
  {
   "cell_type": "markdown",
   "metadata": {
    "deletable": false,
    "editable": false
   },
   "source": [
    "## Teil 1: Grundlegende Schritte zur Merkmalsextraktion\n",
    "Im diesem Teil des Versuchs sollen Sie die wesentlichen Schritte zur Merkmalsbeschreibung von Objekten in Bildern kennenlernen und durchführen.\n",
    "Dazu werden Sie ein geladenes Bild zunächst binarisieren, dann eine Methode zur Rauschreduktion anwenden, die einzelnen Objekte des Bildes voneinander separieren und schließlich die Homogenität als ein mögliches Merkmal zur Beschreibung von Objektformen berechnen.\n",
    "\n",
    "Für nähere Informationen bezüglich der verwendeten Funktionen, schauen Sie noch ein mal hier:\n",
    "\n",
    "__[Befehlsreferenz](Befehlsreferenz_V6.ipynb)__"
   ]
  },
  {
   "cell_type": "markdown",
   "metadata": {
    "deletable": false,
    "editable": false
   },
   "source": [
    "<div class=\"alert rwth-topic\">\n",
    "    \n",
    "## Aufgabe 1: Binarisierung eines Graustufenbildes\n",
    "Ziel des Binarisierungsschrittes ist die Segmentierung des gestörten Bildes in Vorder- und Hintergrundregionen.\n",
    "    \n",
    "</div>"
   ]
  },
  {
   "cell_type": "markdown",
   "metadata": {
    "deletable": false,
    "editable": false
   },
   "source": [
    "<div class=\"alert rwth-subtopic\">\n",
    "    \n",
    "### Aufgabe 1.1: Laden des Bildes \n",
    "Laden Sie zunächst das Bild 'Buchstaben.jpg'. Speicheren Sie das Bild in einer Variable mit der Bezeichung *img*.\n",
    "    \n",
    "Wenn Sie dies erfolgreich gemacht haben, können Sie das Bild durch Ausführen der darauffolgenden Zelle darstellen.\n",
    "  \n",
    "</div>"
   ]
  },
  {
   "cell_type": "code",
   "execution_count": null,
   "metadata": {},
   "outputs": [],
   "source": [
    "#Hier kommt Ihre Lösung zu Aufgabe 1.1:"
   ]
  },
  {
   "cell_type": "code",
   "execution_count": null,
   "metadata": {
    "deletable": false,
    "editable": false,
    "jupyter": {
     "source_hidden": true
    }
   },
   "outputs": [],
   "source": [
    "#Anzeigen des geladenen Bildes:\n",
    "fig, ax = plt.subplots(1,1)\n",
    "ax.imshow(img, cmap='gray');\n",
    "ax.set_axis_off();\n",
    "ax.set_title('Buchstaben');"
   ]
  },
  {
   "cell_type": "markdown",
   "metadata": {
    "deletable": false,
    "editable": false
   },
   "source": [
    "<div class=\"alert rwth-subtopic\">   \n",
    "    \n",
    "### Aufgabe 1.2: Histogramm\n",
    "Berechnen Sie das Histogramm der Grauwerte im Bild. Verwenden Sie dabei 32 Bins. Schauen Sie sich das Histogramm an und geben Sie eine Schätzung für eine geeigneten Binarisierungsschwelle an.\n",
    "               \n",
    "</div>"
   ]
  },
  {
   "cell_type": "code",
   "execution_count": null,
   "metadata": {},
   "outputs": [],
   "source": [
    "# Diese zwei Zeilen legen Ihnen einen Plot an und sorgen für eine schöne Formatierung.\n",
    "fig, ax = plt.subplots()\n",
    "rwth_plt.axis(ax);\n",
    "\n",
    "#Hier kommt Ihre Lösung zu Unterpunkt 1.2:"
   ]
  },
  {
   "cell_type": "markdown",
   "metadata": {
    "deletable": false,
    "editable": false
   },
   "source": [
    "<div class=\"alert rwth-subtopic\">\n",
    "    \n",
    "### Aufgabe 1.3: Ermittlung der Binarisierungsschwelle\n",
    "Führen Sie die nächste Zelle aus. Finden Sie anschließend eine gute Binarisierungsschwelle durch Verschieben des Reglers.   \n",
    "\n",
    "</div>"
   ]
  },
  {
   "cell_type": "code",
   "execution_count": null,
   "metadata": {
    "deletable": false,
    "editable": false,
    "jupyter": {
     "source_hidden": true
    }
   },
   "outputs": [],
   "source": [
    "fig1 = figure(figsize=(10, 6));\n",
    "ax1 = fig1.gca();\n",
    "\n",
    "\n",
    "@widgets.interact(t=widgets.IntSlider(min=50, max=240, continuous_update=True))\n",
    "def update_plot(t):\n",
    "    if ax1.lines: # check if lines exist\n",
    "        ax1.set_data(img_gray>t);\n",
    "        ax1.draw()\n",
    "    else:\n",
    "        ax1.imshow(img_gray>t, cmap= 'gray')\n",
    "        ax1.set_title(\"Finden der Binarisierungsschwelle\")\n",
    "        ax1.axis('off')"
   ]
  },
  {
   "cell_type": "markdown",
   "metadata": {
    "deletable": false,
    "editable": false
   },
   "source": [
    "<div class=\"alert rwth-subtopic\">\n",
    "    \n",
    "### Aufgabe 1.4: Methode von Otsu\n",
    "Ermitteln Sie die optimale Binarisierungsschwelle nach der Methode von Otsu. Binarisieren Sie das Bild anschließend mit Hilfe der berechneten Schwelle und speichern Sie das entstandene Bild in einer Variable *img_bin*.\n",
    "    \n",
    "Wenn Sie dies erfolgreich gemacht haben, können Sie das Bild durch Ausführen der darauffolgenden Zelle darstellen.\n",
    "        \n",
    "</div>"
   ]
  },
  {
   "cell_type": "code",
   "execution_count": null,
   "metadata": {},
   "outputs": [],
   "source": [
    "#Hier kommt Ihre Lösung zu Aufgabe 1.4:"
   ]
  },
  {
   "cell_type": "code",
   "execution_count": null,
   "metadata": {
    "deletable": false,
    "editable": false,
    "jupyter": {
     "source_hidden": true
    }
   },
   "outputs": [],
   "source": [
    "#Plotten des binarisierten Bildes aus 1.4:\n",
    "fig, ax = plt.subplots(1,1)\n",
    "ax.imshow(img_bin, cmap='gray');\n",
    "ax.set_axis_off();\n",
    "ax.set_title('Binarisiertes Bild nach Otsu');"
   ]
  },
  {
   "cell_type": "markdown",
   "metadata": {
    "deletable": false,
    "editable": false
   },
   "source": [
    "<div class=\"alert rwth-topic\">\n",
    "    \n",
    "## Aufgabe 2: Rauschreduktion mittels morphologischer Operationen\n",
    "Ziel diese Schrittes ist es, das im Binärbild vorhendene Rauschen so weit wie möglich zu reduziern. Dies soll mit Hilfe der morphologischen Bildverarbeitung erreicht werden.        \n",
    "\n",
    "</div>"
   ]
  },
  {
   "cell_type": "markdown",
   "metadata": {
    "deletable": false,
    "editable": false
   },
   "source": [
    "<div class=\"alert rwth-subtopic\">\n",
    "         \n",
    "### Aufgabe 2.1: Binäre Erosion\n",
    "Entfernen Sie störende Bildpunkte mit Hilfe einer binären Erosion. Experimentieren Sie dabei mit quadratischen Strukturelementen verschiedener Seitenlängen (3, 5, 10, 20). Wenn Sie die erodierten Bilder als *im_erode1* bis *im_erode4* bennenen, können Sie diese durch Ausführen der darauffolgende Zelle darstellen.\n",
    "    \n",
    " * Welches Strukturelement bietet das beste Ergebnis? \n",
    " * Welche Probleme können duch zu große oder zu kleine Strukturelemente auftreten? \n",
    "    \n",
    "Verwenden Sie in den darauf folgenden Aufgaben das erodierte Bild mit dem besten Ergebnis. \n",
    "    \n",
    "</div>"
   ]
  },
  {
   "cell_type": "code",
   "execution_count": null,
   "metadata": {},
   "outputs": [],
   "source": [
    "#Hier kommt Ihre Lösung zu Aufgabe 2.1:"
   ]
  },
  {
   "cell_type": "code",
   "execution_count": null,
   "metadata": {
    "deletable": false,
    "editable": false
   },
   "outputs": [],
   "source": [
    "#Plotten der binären Erosionen aus 2.1:\n",
    "fig, ax = plt.subplots(2,2,sharex='all', sharey='all')\n",
    "ax[0,0].imshow(im_erode1,cmap='gray');\n",
    "ax[1,0].imshow(im_erode2,cmap='gray');\n",
    "ax[0,1].imshow(im_erode3,cmap='gray');\n",
    "ax[1,1].imshow(im_erode4,cmap='gray');\n",
    "for axs in ax.flat:\n",
    "    axs.set_axis_off()\n",
    "fig.suptitle('Erosion');"
   ]
  },
  {
   "cell_type": "markdown",
   "metadata": {
    "deletable": false,
    "editable": false
   },
   "source": [
    "<div class=\"alert rwth-subtopic\"> \n",
    "    \n",
    "### Aufgabe 2.2: Rekonstruktion\n",
    "Die Erosion im vorhergehenden Schritt hat neben dem Rauschen auch zum Objekt gehörende Bildpunkte entfernt. Rekonstruieren Sie die ursprüngliche Form des Buchstabens durch eine Dilation. Wenn Sie die resultierenden Bilder als *im_dil1* bis *im_dil4* bennenen, können Sie diese wieder durch Ausführen der darauffolgende Zelle darstellen.\n",
    "    \n",
    " * Welches Strukturelement ist hier optimal?\n",
    " * Warum? \n",
    "    \n",
    "Verwenden Sie in den nachfolgen Aufgaben das Bild mit dem besten Ergebnis.      \n",
    "        \n",
    "</div>"
   ]
  },
  {
   "cell_type": "code",
   "execution_count": null,
   "metadata": {},
   "outputs": [],
   "source": [
    "#Hier kommt Ihre Lösung zu Aufgabe 2.2:"
   ]
  },
  {
   "cell_type": "code",
   "execution_count": null,
   "metadata": {
    "deletable": false,
    "editable": false
   },
   "outputs": [],
   "source": [
    "#Plotten der binären Dilatationen aus 2.2:\n",
    "fig, ax = plt.subplots(2,2,sharex='all', sharey='all')\n",
    "ax[0,0].imshow(im_dil1,cmap='gray');\n",
    "ax[1,0].imshow(im_dil2,cmap='gray');\n",
    "ax[0,1].imshow(im_dil3,cmap='gray');\n",
    "ax[1,1].imshow(im_dil4,cmap='gray');\n",
    "for axs in ax.flat:\n",
    "    axs.set_axis_off()\n",
    "fig.suptitle('Dilatation');"
   ]
  },
  {
   "cell_type": "markdown",
   "metadata": {
    "deletable": false,
    "editable": false
   },
   "source": [
    "<div class=\"alert rwth-topic\">\n",
    "   \n",
    "## Aufgabe 3: Labeling und Ausschneiden\n",
    "Um die einzelnen Objekte im Bild mithilfe von Form-Merkmalen beschreiben zu können, müssen diese zunächst voneinenader getrennt, also zumindest grob lokalisiert, werden.\n",
    "Für das Beispiel hier reicht eine sehr einfaches Verfahren aus Labeling und anschließendem Ausschneiden der Bounding-Box jedes gefundenen Objektes.\n",
    "       \n",
    "</div>"
   ]
  },
  {
   "cell_type": "markdown",
   "metadata": {
    "deletable": false,
    "editable": false
   },
   "source": [
    "<div class=\"alert rwth-subtopic\">\n",
    "    \n",
    "### Aufgabe 3.1: Labeling\n",
    "Das Labeling soll verschiedene Objekte im Bild von einander trennen, indem es zusammenhängende Vordergrundregionen identifiziert. Ein Beispiel für ein Labelbild, wie es aus diesem Schritt resultieren soll, können Sie sich hier ansehen: __[Labelmatrix](./Funktionen/labelmatrix.ipynb)__ \n",
    "    \n",
    "Auch hier können Sie sich das Resultiert ihrer Lösung durch Ausführen der darauffolgende Zelle darstellen, wenn Sie dies als *label_img* bennenen.\n",
    "                                                                                                               \n",
    "</div>  "
   ]
  },
  {
   "cell_type": "code",
   "execution_count": null,
   "metadata": {},
   "outputs": [],
   "source": [
    "#Hier kommt Ihre Lösung zu Aufgabe 3.1:"
   ]
  },
  {
   "cell_type": "code",
   "execution_count": null,
   "metadata": {
    "deletable": false,
    "editable": false
   },
   "outputs": [],
   "source": [
    "#Plotten des Label-Bildes aus 3.1:\n",
    "fig, ax = plt.subplots(1,1)\n",
    "ax.imshow(label_img, cmap='gray');\n",
    "ax.set_axis_off();\n",
    "ax.set_title('labeled image');"
   ]
  },
  {
   "cell_type": "markdown",
   "metadata": {
    "deletable": false,
    "editable": false
   },
   "source": [
    "<div class=\"alert rwth-subtopic\">\n",
    "    \n",
    "### Aufgabe 3.2: Bounding-Box\n",
    "Nach dem Labeling sollen die Objekte nun voneinander getrennt werden. Dafür soll hier zunächst eine Bounding-Box für jedes Objekt ermittelt werden.\n",
    "    \n",
    " * Wie können die Bounding-Boxen dabei helfen, Merkmale veschiebungs- und skalierungsinvariant zu machen?\n",
    "    \n",
    "Wenn Sie die Bounding-Boxen, bzw. die Koordinaten dieser Rechtecke in einem Array speichern, können Sie sich das Ergbniss durch Ausführen der darauffolgenden Zelle ansehen. Das Array sollten Sie dafür *rectArray* nennen.\n",
    "        \n",
    "</div>"
   ]
  },
  {
   "cell_type": "code",
   "execution_count": null,
   "metadata": {},
   "outputs": [],
   "source": [
    "# Hier kommt ihre Lösung zu Aufgabe 3.2:"
   ]
  },
  {
   "cell_type": "code",
   "execution_count": null,
   "metadata": {
    "deletable": false,
    "editable": false,
    "jupyter": {
     "source_hidden": true
    }
   },
   "outputs": [],
   "source": [
    "#Plotten der Bounding Boxen aus 3.2:\n",
    "def rects(img,rectList, color='yellow'):\n",
    "    fig, ax = plt.subplots(1,2,figsize=(12, 8))\n",
    "    ax[0].imshow(img, cmap= 'gray')\n",
    "    ax[0].set_title('Labeled Image')\n",
    "    ax[0].axis('off')\n",
    "    ax[1].axis('off')\n",
    "    ax[1].imshow(img, cmap= 'gray')\n",
    "    ax[1].set_title('Labeled Image with BoundingBox')\n",
    "    for i in range(len(rectList)):\n",
    "        rect = mpatches.Rectangle((rectList[i][1], rectList[i][0]), rectList[i][3] - rectList[i][1], rectList[i][2] - rectList[i][0], fill=False, edgecolor='yellow', linewidth=2)\n",
    "        ax[1].add_patch(rect)\n",
    "    plt.show()\n",
    "\n",
    "rects(label_img, rectList)    "
   ]
  },
  {
   "cell_type": "markdown",
   "metadata": {
    "deletable": false,
    "editable": false
   },
   "source": [
    "<div class=\"alert rwth-subtopic\">\n",
    "    \n",
    "### Aufgabe 3.3: Crop mittels Bounding-Box\n",
    "Ab diesem Unterpunkt soll nur noch mit dem Buchstaben 'A' weitergearbeitet werden. Schneiden Sie dazu die Boundingbox, die diesen enthält,  aus und speichern ihn in einer Variable namens *img_cropped*.\n",
    "    \n",
    "</div>"
   ]
  },
  {
   "cell_type": "code",
   "execution_count": null,
   "metadata": {
    "deletable": false,
    "editable": false
   },
   "outputs": [],
   "source": [
    "#Hier kommt Ihre Lösung zu Aufgabe 3.3:"
   ]
  },
  {
   "cell_type": "code",
   "execution_count": null,
   "metadata": {
    "deletable": false,
    "editable": false,
    "jupyter": {
     "source_hidden": true
    }
   },
   "outputs": [],
   "source": [
    "#Plotten  des ausgeschnittenen Buchstabens aus 3.3:\n",
    "fig, ax = plt.subplots(1,1)\n",
    "ax.imshow(img_cropped, cmap='gray');\n",
    "ax.set_axis_off();\n",
    "ax.set_title('cropped image');"
   ]
  },
  {
   "cell_type": "markdown",
   "metadata": {
    "deletable": false,
    "editable": false
   },
   "source": [
    "<div class=\"alert rwth-topic\">\n",
    "\n",
    "## Aufgabe 4: Merkmalsbestimmung am Beispiel Homogenität \n",
    "Ziel dieser Aufgabe ist es, dass Sie das Merkmal der Homogenität für den Buchstaben 'A' berechnen und sich mit dessen Eigenschaften beschäftigen.\n",
    "        \n",
    "</div>"
   ]
  },
  {
   "cell_type": "markdown",
   "metadata": {
    "deletable": false,
    "editable": false
   },
   "source": [
    "<div class=\"alert rwth-subtopic\">\n",
    "    \n",
    "### Aufgabe 4.1: Homogenität berechnen\n",
    "Bestimmen Sie die Homogenität des Buchstabens 'A'. Berechnen Sie dafür sowohl die Fläche, als auch die Kontur. Beachten Sie dabei, dass die Homogenität sich immer auf die äußeren Konturen eines Objektes bezieht. \n",
    "       \n",
    "Wenn Sie Zwischenergebnisse, die in Form von Bildern vorliegen, in Variablen namens *filled* und *contour* speichern, werden diese durch Ausführen der nächsten Zelle angezeigt.\n",
    "       \n",
    "</div>"
   ]
  },
  {
   "cell_type": "code",
   "execution_count": null,
   "metadata": {},
   "outputs": [],
   "source": [
    "#Hier kommt Ihre Lösung zu Aufgabe 4.1:"
   ]
  },
  {
   "cell_type": "code",
   "execution_count": null,
   "metadata": {
    "deletable": false,
    "editable": false,
    "jupyter": {
     "source_hidden": true
    }
   },
   "outputs": [],
   "source": [
    "#Plotten der Kontur und des gefüülten Buchstabens aus 4.1:\n",
    "fig, ax = plt.subplots(1,2,sharex='all', sharey='all')\n",
    "ax[0].imshow(contour,cmap='gray')\n",
    "ax[0].set_title('Kontur');\n",
    "ax[1].set_title('Filled');\n",
    "ax[1].imshow(filled,cmap='gray')\n",
    "for axs in ax.flat:\n",
    "    axs.set_axis_off()\n",
    "fig.suptitle('Homogenität');"
   ]
  },
  {
   "cell_type": "markdown",
   "metadata": {
    "deletable": false,
    "editable": false
   },
   "source": [
    "<div class=\"alert rwth-subtopic\">\n",
    "    \n",
    "### Aufgabe 4.2: Homogenität - Eigenschaften\n",
    "Führend Sie die nachfolgende Zelle aus und rotieren, sowie skalieren Sie die angezeigten Bilder mittels der Regler.\n",
    " *  Was stellen Sie fest?\n",
    " *  Ist die Homogenität invariant gegenüber Rotation und Skalierung? \n",
    " *  Inwiefern sind diese Eigenschaften erstrebenswert bei der Merkmalsbeschreibung?\n",
    "               \n",
    "</div>"
   ]
  },
  {
   "cell_type": "code",
   "execution_count": null,
   "metadata": {
    "deletable": false,
    "editable": false,
    "jupyter": {
     "source_hidden": true
    }
   },
   "outputs": [],
   "source": [
    "roww = int(1*173)\n",
    "coll = int(1*158)\n",
    "resize(img_cropped, (roww,coll)).shape\n",
    "\n",
    "# load the cropped image embedded in bigger black img to avoid bound-crops and overlapping by neighboured characters\n",
    "a_in_black = label(imread(\"Bilder/A_in_black.png\"))\n",
    "\n",
    "# Rotate image correctly\n",
    "def rotate_image(mat, angle):\n",
    "    height, width = mat.shape[:2] \n",
    "    image_center = (width/2, height/2)\n",
    "\n",
    "    rotation_mat = getRotationMatrix2D(image_center, angle, 1.)\n",
    "\n",
    "    abs_cos = abs(rotation_mat[0,0]) \n",
    "    abs_sin = abs(rotation_mat[0,1])\n",
    "\n",
    "    bound_w = int(height * abs_sin + width * abs_cos)\n",
    "    bound_h = int(height * abs_cos + width * abs_sin)\n",
    "\n",
    "    rotation_mat[0, 2] += bound_w/2 - image_center[0]\n",
    "    rotation_mat[1, 2] += bound_h/2 - image_center[1]\n",
    "\n",
    "    rotated_mat = warpAffine(mat, rotation_mat, (bound_w, bound_h))\n",
    "    return rotated_mat\n",
    "\n",
    "\n",
    "fig, ax = plt.subplots(1,2,figsize=(10, 6))\n",
    "\n",
    "# Rotate Slider\n",
    "@widgets.interact(d=widgets.IntSlider(min=0, max=360, continuous_update=True))\n",
    "def update_rotation(d):\n",
    "        rotated_a = label(rotate_image(a_in_black.astype(np.double), d))\n",
    "        regions = regionprops(rotated_a)\n",
    "        boxes = np.array([label['BoundingBox']\n",
    "                  for label in regions])\n",
    "        rotated_a_cropped = rotated_a[boxes[0][0]-1:boxes[0][2]+1, boxes[0][1]-1:boxes[0][3]+1]\n",
    "    \n",
    "        if ax[0].lines: # check if lines exist\n",
    "            ax[0].set_data(rotated_a_cropped);\n",
    "            ax[0].draw()\n",
    "\n",
    "        else:\n",
    "            ax[0].imshow(rotated_a_cropped, cmap= 'gray')\n",
    "            ax[0].set_title(\"Rotation des Buchstaben\")\n",
    "            ax[0].axis('off')\n",
    "            \n",
    "        print('Winkel: ',d, '°')\n",
    "        rotated_filled = binary_fill_holes(rotated_a_cropped)\n",
    "        rotated_contour = rotated_filled.astype(np.double) - binary_erosion(rotated_filled, kernel1)\n",
    "        homogenity(rotated_contour,rotated_a_cropped)\n",
    "\n",
    "#Resize Slider\n",
    "@widgets.interact(r=widgets.FloatSlider(min=0.2, max=4, continuous_update=False))\n",
    "def update_resize(r):\n",
    "        rows = int(r*173);\n",
    "        cols = int(r*158);\n",
    "        resized_image= resize(img_cropped, (rows, cols))\n",
    "        print(resized_image.shape)\n",
    "\n",
    "        if ax[1].lines: # check if lines exist\n",
    "            ax[1].set_data(resized_image);\n",
    "            ax[1].draw()\n",
    "        else:\n",
    "            ax[1].imshow(resized_image, cmap= 'gray')\n",
    "            ax[1].set_title(\"Skalierung des Buchstaben\")\n",
    "            ax[1].axis('off')\n",
    "            \n",
    "        print('Skalierungsfaktor: ',r)\n",
    "        scaled_filled = binary_fill_holes(resized_image)\n",
    "        scaled_contour = scaled_filled.astype(np.double) - binary_erosion(scaled_filled, kernel1)\n",
    "        homogenity(scaled_contour,resized_image)\n",
    "        "
   ]
  },
  {
   "cell_type": "markdown",
   "metadata": {
    "deletable": false,
    "editable": false
   },
   "source": [
    "<div class=\"alert rwth-feedback\">\n",
    "\n",
    "\n",
    "    \n",
    "# Feedback:\n",
    "\n",
    "Liebe TeilnehmerInnen,\n",
    "\n",
    "Wir würden uns freuen, wenn ihr am Ende jeder Aufgabe kurz eure Meinung aufschreibt. Ihr könnt auf die dadrunter liegende Zelle zu greifen und eure Anmerkungen zu der Aufgabe (oder auch generelles) reinschreiben.\n",
    "\n",
    "\n",
    "</div>"
   ]
  },
  {
   "cell_type": "code",
   "execution_count": null,
   "metadata": {
    "deletable": false,
    "editable": false,
    "jupyter": {
     "source_hidden": true
    }
   },
   "outputs": [],
   "source": [
    "feedback_questions_de = [{\"type\": \"scale\", \"label\" : \"Ich habe das Gefühl etwas gelernt zu haben.\"},\n",
    "                         {\"type\": \"scale\", \"label\" : \"Die Betreuung des Versuchs war gut.\"},\n",
    "                         {\"type\": \"scale\", \"label\" : \"Die Versuchsunterlagen sind verständlich.\"},\n",
    "                         {\"type\": \"free-text\", \"label\" : \"Das war gut:\"},\n",
    "                         {\"type\": \"free-text\", \"label\" : \"Das könnte verbessert werden:\"},\n",
    "                         {\"type\": \"free-text\", \"label\" : \"Was ich sonst noch sagen möchte:\"}]\n",
    "\n",
    "rwth_feedback(feedback_questions_de'./Feedback/feedback.json')"
   ]
  },
  {
   "cell_type": "markdown",
   "metadata": {
    "deletable": false,
    "editable": false
   },
   "source": [
    "# >>Weiter zu  [__Teil 2__](Teil_2.ipynb)\n"
   ]
  }
 ],
 "metadata": {
  "kernelspec": {
   "display_name": "Python 3",
   "language": "python",
   "name": "python3"
  },
  "language_info": {
   "codemirror_mode": {
    "name": "ipython",
    "version": 3
   },
   "file_extension": ".py",
   "mimetype": "text/x-python",
   "name": "python",
   "nbconvert_exporter": "python",
   "pygments_lexer": "ipython3",
   "version": "3.7.6"
  }
 },
 "nbformat": 4,
 "nbformat_minor": 4
}
