{
 "cells": [
  {
   "cell_type": "code",
   "execution_count": null,
   "metadata": {},
   "outputs": [],
   "source": [
    "import cv2\n",
    "import os\n",
    "import math\n",
    "import numpy as np\n",
    "import matplotlib.pyplot as plt\n",
    "from PIL import Image\n",
    "from sklearn.cluster import KMeans\n",
    "\n",
    "def display_img(img, fgsize=(5,5), **kwargs):\n",
    "    \n",
    "    plt.figure(figsize=fgsize)\n",
    "    plt.imshow(img, **kwargs)\n",
    "    plt.show()\n"
   ]
  },
  {
   "cell_type": "markdown",
   "metadata": {},
   "source": [
    "# 10.1 Cameraman\n",
    "## 10.1.1\n",
    "Laden Sie das Bild 'cam.tif'. Verwenden sie dafür die Funktion *imread* von OpenCV. Lassen sie sich das gelesene Bild mittels der Funktion *display_img* anzeigen."
   ]
  },
  {
   "cell_type": "code",
   "execution_count": null,
   "metadata": {
    "scrolled": false
   },
   "outputs": [],
   "source": []
  },
  {
   "cell_type": "markdown",
   "metadata": {},
   "source": [
    "# 10.1.2\n",
    "Eine Rauschreduktion im Ortsraum wird im Folgenden auf zwei unterschiedliche Weisen durchgeführt: Mittelwertbildung und Medianfilter.\n",
    "\n",
    "Wenden Sie einen Gaußschen Weichzeichner (gaussian blur) auf das zuvor geladene Bild an. \n",
    "Verwenden sie dafür die Funktion *GaussianBlur* von OpenCV. \n",
    "Zeigen sie das gefilterte Bild an.\n",
    "Welchen Einfluss haben die unterschiedlichen Parameter?"
   ]
  },
  {
   "cell_type": "code",
   "execution_count": null,
   "metadata": {},
   "outputs": [],
   "source": []
  },
  {
   "cell_type": "markdown",
   "metadata": {},
   "source": [
    "Wenden Sie einen Medianfilter auf das zuvor geladene Bild an. Verwenden sie dafür die Funktion *medianBlur* von OpenCV. Zeigen sie das gefilterte Bild an."
   ]
  },
  {
   "cell_type": "code",
   "execution_count": null,
   "metadata": {},
   "outputs": [],
   "source": []
  },
  {
   "cell_type": "markdown",
   "metadata": {},
   "source": [
    "# 10.2 Büroklammern\n",
    "\n",
    "## 10.2.1\n",
    "Laden Sie das Bild clip.tif.\n",
    "Konvertieren Sie das geladene Bild in den Datentyp \"8bit unsigned int\" mittels der numpy Funktion *np.astype*.\n",
    "Zeigen Sie das Ergebnis an."
   ]
  },
  {
   "cell_type": "code",
   "execution_count": null,
   "metadata": {},
   "outputs": [],
   "source": []
  },
  {
   "cell_type": "markdown",
   "metadata": {},
   "source": [
    "Filtern Sie das Bild mittels einer Schwellwertstrategie. \n",
    "Sie können hierfür die Funktion *cv2.threshold* verwenden.\n",
    "Probieren Sie verschiedene Schwellwerte aus.\n",
    "Was beobachten Sie?"
   ]
  },
  {
   "cell_type": "code",
   "execution_count": null,
   "metadata": {},
   "outputs": [],
   "source": []
  },
  {
   "cell_type": "markdown",
   "metadata": {},
   "source": [
    "## 10.2.2\n",
    "Trennen Sie das Nutz- und Störsignal im Ortsraum vor der Anwendung des Schwellwertes."
   ]
  },
  {
   "cell_type": "code",
   "execution_count": null,
   "metadata": {},
   "outputs": [],
   "source": []
  },
  {
   "cell_type": "markdown",
   "metadata": {},
   "source": [
    "# 10.3 Satellitenbilder"
   ]
  },
  {
   "cell_type": "markdown",
   "metadata": {},
   "source": [
    "Im folgenden wird eine Landaufnahme des Sentinel-2 Satelliten betrachtet. \n",
    "Die betrachtete Aufnahme beinhaltet nur eine Auswahl an 10 gemessenen Wellenlängenbereichen.\n",
    "Jedes Satellitenband soll in einem Kanal des Bildes img_mspec platziert werden.\n",
    "\n",
    "| Sentinel-2 Bänder   |  Wellenlänge [micrometer]  | Kanal |\n",
    "|:----------|-------------| --- |\n",
    "| Band 2 |  0.490 | 0 |\n",
    "| Band 3 |  0.560 | 1 |\n",
    "| Band 4 |  0.665 | 2 |\n",
    "| Band 5 |  0.705 | 3 |\n",
    "| Band 6 |  0.740 | 4 |\n",
    "| Band 7 |  0.783 | 5 |\n",
    "| Band 8 |  0.842 | 6 |\n",
    "| Band 8A |  0.865 | 7 |\n",
    "| Band 11 |  1.610 | 8 |\n",
    "| Band 12 |  2.190 | 9 |"
   ]
  },
  {
   "cell_type": "code",
   "execution_count": null,
   "metadata": {},
   "outputs": [],
   "source": [
    "# wir laden das multispektrale Satellitenbild\n",
    "path = r'sentinel2_sample'\n",
    "bname = 'RT_S2A_OPER_MSI_L1C_TL_SGS__20160506T153005_A004552_T32TQM_B'\n",
    "chan_names = ('02', '03', '04', '05', '06', '07', '08', '8A', '11', '12')\n",
    "img_mspec = np.asarray([np.array(Image.open(os.path.join(path, bname+chan_name+'.tif'))) for chan_name in chan_names])\n",
    "img_mspec = img_mspec.transpose((1,2,0))\n",
    "\n",
    "# betrachte nur einen kleinen Bildauschnitt für eine schnellere Verarbeitungsgeschwindigkeit\n",
    "npix = 500\n",
    "img_mspec = img_mspec[:npix, :npix, :]\n",
    "\n",
    "# ziehe nur herkömmliche \"RGB\" Daten für Visusalisierungszwecke heran\n",
    "img_rgb = img_mspec[:,:,(2,1,0)] # die Kanäle 0,1,2 entsprechen B,G,R (im weitesten Sinne)\n",
    "img_rgb = (img_rgb*255).astype(np.uint8)\n",
    "\n",
    "display_img(img_rgb, fgsize=(15,15))"
   ]
  },
  {
   "cell_type": "code",
   "execution_count": null,
   "metadata": {
    "scrolled": false
   },
   "outputs": [],
   "source": [
    "# Wie zu sehen ist, sind rohe Kamera RGB Werte nicht für eine direkte menschliche Betrachtung geeignet. Eine entsprechende\n",
    "# Umrechnung sprengt den Rahmen dieses Versuchs. Deshalb bedienen wir uns einem naiven Trick zu besseren Visualisierung:\n",
    "# Kontrastverstärkung durch Manipulation der \"Helligkeit\"\n",
    "img_lab  = cv2.cvtColor(img_rgb, cv2.COLOR_RGB2LAB)\n",
    "img_lab[:,:,0] = 2 * img_lab[:,:,0]\n",
    "img_output = cv2.cvtColor(img_lab, cv2.COLOR_LAB2RGB)\n",
    "display_img(img_output, fgsize=(15,15))"
   ]
  },
  {
   "cell_type": "markdown",
   "metadata": {},
   "source": [
    "Eine einfache Art multispektrale Satellitenbilder zu visualisieren ist es drei individuelle Bänder jeweils als eine der drei Grundfarben RGB zu interpretieren.\n",
    "Ein so entstandendes Bild wird als Farbkomposit (color composite) bezeichnet.\n",
    "Ein Farbkomposit wird durch die Schreibweise: \"RGB = Br Bg Bb\" gekennzeichnet, wobei Br, Bg und Bb jeweils die Bänder beschreiben, die mit dem entsprechenden Farbkanal assoziiert sind.\n",
    "\n",
    "## 10.3.1\n",
    "Visualisieren Sie den Farbkomposit RGB = (8 8A 12)    "
   ]
  },
  {
   "cell_type": "code",
   "execution_count": null,
   "metadata": {},
   "outputs": [],
   "source": []
  },
  {
   "cell_type": "markdown",
   "metadata": {},
   "source": [
    "Das Satellitenbild soll nun automatisch klassifiziert werden. Dafür wird ein Verfahren aus dem Bereich \"Unsupervised Learning\" eingesetzt: KMeans-Clustering\n",
    "\n",
    "## 10.3.2\n",
    "Klassifizierten Sie das multispektrale Satellitenbild mittels des KMeans-Algorithmus. \n",
    "Verwenden Sie initial eine Clusteranzahl von drei. \n",
    "Visualisieren Sie das Ergebnis. Welche drei Klassen sind gelernt worden?"
   ]
  },
  {
   "cell_type": "code",
   "execution_count": null,
   "metadata": {},
   "outputs": [],
   "source": []
  },
  {
   "cell_type": "markdown",
   "metadata": {},
   "source": [
    "# 10.4 Dota\n",
    "Eine periodische Störung soll aus einem Bild entfernt werden. Dafür wird zuerst das Bild inklusive Störung mittels des folgenden Codes erzeugt.\n",
    "\n",
    "## 10.4.1"
   ]
  },
  {
   "cell_type": "code",
   "execution_count": null,
   "metadata": {},
   "outputs": [],
   "source": [
    "# Unser allzeit geliebtes Videospiellogo wird geladen. Es sei hervorgehoben, dass erstmalig ein herkömmliches Farbbild geladen \n",
    "# wird.\n",
    "img_dota = cv2.imread('dota2.jpg')\n",
    "\n",
    "# Fast alle Standardbibliotheken innerhalb von Python unterstützen nativ keine anderen Formate als \"sRGB\". Das kanonische \n",
    "# Format von OpenCV ist allerdings BGR. Um mögliche Verwirrungen zu vermeiden, ändern wir einfach die Kanalreihenfolge.\n",
    "b,g,r = cv2.split(img_dota)       \n",
    "img_dota = cv2.merge([r,g,b])\n",
    "\n",
    "display_img(img_dota)"
   ]
  },
  {
   "cell_type": "code",
   "execution_count": null,
   "metadata": {},
   "outputs": [],
   "source": [
    "# Eine periodische Störung wird simuliert. Hierbei handelt es sich um eine einfache Sinuswelle.\n",
    "kx = 10\n",
    "ky = 5\n",
    "scale = np.sqrt(kx**2 + ky**2)\n",
    "norm = np.array([kx, ky]) / scale\n",
    "\n",
    "img_wave = np.zeros((img_dota.shape[0], img_dota.shape[1]))\n",
    "for row in range(img_dota.shape[0]):\n",
    "    for col in range(img_dota.shape[1]):\n",
    "        val = np.array([row, col] @ norm) * 2 * math.pi / scale\n",
    "        img_wave[row, col] = math.cos(val)\n",
    "\n",
    "# Die Sinuswelle wird gleichermaßen in jedem Farbkanal wiederholt\n",
    "img_wave = np.repeat(np.expand_dims(img_wave, 2), 3, axis = 2)\n",
    "\n",
    "display_img(img_wave)"
   ]
  },
  {
   "cell_type": "code",
   "execution_count": null,
   "metadata": {},
   "outputs": [],
   "source": [
    "# Das gestörte Gesamtbild ergibt sich aus der gewichteten Überlagerung von Originalbild und Störung\n",
    "img = ((img_dota) + img_wave*30).astype(np.uint8)\n",
    "display_img(img)"
   ]
  },
  {
   "cell_type": "markdown",
   "metadata": {},
   "source": [
    "Der Einfachheit halber rechnen wir im Folgenden nur mit dem Grauwertbild weiter:"
   ]
  },
  {
   "cell_type": "code",
   "execution_count": null,
   "metadata": {},
   "outputs": [],
   "source": [
    "img_dota_gray = cv2.cvtColor(img_dota, cv2.COLOR_RGB2GRAY)\n",
    "\n",
    "# auch das Grauwertbild wird gestört\n",
    "img = ((img_dota_gray) + img_wave[:,:,0]*30)\n",
    "\n",
    "# Um das Bild sinnvoll darstellen zu können, muss es auf das Interval [0, 1] normalisiert werden. \n",
    "maxval = np.amin(img)\n",
    "minval = np.amax(img)\n",
    "img_norm = (img-minval) / (maxval-minval)\n",
    "\n",
    "display_img(img, cmap='gray')"
   ]
  },
  {
   "cell_type": "markdown",
   "metadata": {},
   "source": [
    "## 10.4.1\n",
    "Berechnen und Visualisieren Sie das Amplitudenspektrum von img. Sie benötigen dafür die Funktionen *np.fft.fft2*, *np.fft.fftshift*, *np.log10* und *np.abs*."
   ]
  },
  {
   "cell_type": "code",
   "execution_count": null,
   "metadata": {},
   "outputs": [],
   "source": []
  },
  {
   "cell_type": "markdown",
   "metadata": {},
   "source": [
    "Berechnen und Visualisieren Sie das Amplitudenspektrum von img_dota_gray."
   ]
  },
  {
   "cell_type": "code",
   "execution_count": null,
   "metadata": {},
   "outputs": [],
   "source": []
  },
  {
   "cell_type": "markdown",
   "metadata": {},
   "source": [
    "# 10.4.2\n",
    "Die Störung soll nun im Ortsfrequenzraum entfernt werden. Welche Art von Filter wird dafür benötigt? \n",
    "\n",
    "Im Folgenden ist eine Hilfsfunktion für die Erstellung einer geeigneten Filtermaske gegeben. Erstellen Sie damit die Filtermaske."
   ]
  },
  {
   "cell_type": "code",
   "execution_count": null,
   "metadata": {},
   "outputs": [],
   "source": [
    "def create_circular_mask(target_shape, radius):\n",
    "    height = target_shape[0]\n",
    "    width = target_shape[1]\n",
    "    mask = np.zeros((height, width))\n",
    "    for row in range(height):\n",
    "        for col in range(width):\n",
    "            if (row-height/2)**2 + (col-width/2)**2 <= radius**2:\n",
    "                mask[row, col] = 1\n",
    "    \n",
    "    return mask"
   ]
  },
  {
   "cell_type": "code",
   "execution_count": null,
   "metadata": {},
   "outputs": [],
   "source": []
  },
  {
   "cell_type": "markdown",
   "metadata": {},
   "source": [
    "# 10.4.3\n",
    "Filtern Sie das gestörte Logo im Ortsfrequenzraum. Wandeln das Ergebnis anschließend zurück in den Ortsraum. Sie benötigen an neuen Funktionen *np.fft.ifftshift* und *np.fft.ifft2*. Zeigen Sie das Ergebnis an."
   ]
  },
  {
   "cell_type": "code",
   "execution_count": null,
   "metadata": {
    "scrolled": false
   },
   "outputs": [],
   "source": []
  },
  {
   "cell_type": "code",
   "execution_count": null,
   "metadata": {},
   "outputs": [],
   "source": []
  }
 ],
 "metadata": {
  "kernelspec": {
   "display_name": "Python 3",
   "language": "python",
   "name": "python3"
  },
  "language_info": {
   "codemirror_mode": {
    "name": "ipython",
    "version": 3
   },
   "file_extension": ".py",
   "mimetype": "text/x-python",
   "name": "python",
   "nbconvert_exporter": "python",
   "pygments_lexer": "ipython3",
   "version": "3.7.4"
  }
 },
 "nbformat": 4,
 "nbformat_minor": 2
}
